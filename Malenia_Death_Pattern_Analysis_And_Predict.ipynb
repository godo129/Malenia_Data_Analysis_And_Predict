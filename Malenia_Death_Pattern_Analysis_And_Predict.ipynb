{
 "cells": [
  {
   "cell_type": "code",
   "execution_count": 234,
   "id": "e58a8bf0",
   "metadata": {},
   "outputs": [],
   "source": [
    "import pandas as pd \n",
    "import seaborn as sns \n",
    "import matplotlib.pyplot as plt"
   ]
  },
  {
   "cell_type": "code",
   "execution_count": 235,
   "id": "d09b4a47",
   "metadata": {
    "scrolled": false
   },
   "outputs": [
    {
     "data": {
      "text/html": [
       "<div>\n",
       "<style scoped>\n",
       "    .dataframe tbody tr th:only-of-type {\n",
       "        vertical-align: middle;\n",
       "    }\n",
       "\n",
       "    .dataframe tbody tr th {\n",
       "        vertical-align: top;\n",
       "    }\n",
       "\n",
       "    .dataframe thead th {\n",
       "        text-align: right;\n",
       "    }\n",
       "</style>\n",
       "<table border=\"1\" class=\"dataframe\">\n",
       "  <thead>\n",
       "    <tr style=\"text-align: right;\">\n",
       "      <th></th>\n",
       "      <th>Host_Death_Time</th>\n",
       "      <th>Host_Build</th>\n",
       "      <th>Level</th>\n",
       "      <th>Phase</th>\n",
       "      <th>Waterflow_Death</th>\n",
       "      <th>Health_Pct</th>\n",
       "      <th>Location</th>\n",
       "      <th>Phantom_Count</th>\n",
       "      <th>Phantom_Build</th>\n",
       "      <th>Phantom_Death</th>\n",
       "    </tr>\n",
       "  </thead>\n",
       "  <tbody>\n",
       "    <tr>\n",
       "      <th>0</th>\n",
       "      <td>299.0</td>\n",
       "      <td>RAW_MELEE</td>\n",
       "      <td>124.0</td>\n",
       "      <td>2.0</td>\n",
       "      <td>True</td>\n",
       "      <td>66.0</td>\n",
       "      <td>INNER</td>\n",
       "      <td>2.0</td>\n",
       "      <td>RAW_MELEE</td>\n",
       "      <td>True</td>\n",
       "    </tr>\n",
       "    <tr>\n",
       "      <th>1</th>\n",
       "      <td>261.0</td>\n",
       "      <td>HYBRID</td>\n",
       "      <td>169.0</td>\n",
       "      <td>2.0</td>\n",
       "      <td>True</td>\n",
       "      <td>92.0</td>\n",
       "      <td>CENTER</td>\n",
       "      <td>2.0</td>\n",
       "      <td>PROC_CAST</td>\n",
       "      <td>True</td>\n",
       "    </tr>\n",
       "    <tr>\n",
       "      <th>2</th>\n",
       "      <td>148.0</td>\n",
       "      <td>PROC_MELEE</td>\n",
       "      <td>179.0</td>\n",
       "      <td>1.0</td>\n",
       "      <td>True</td>\n",
       "      <td>93.0</td>\n",
       "      <td>INNER</td>\n",
       "      <td>1.0</td>\n",
       "      <td>NaN</td>\n",
       "      <td>NaN</td>\n",
       "    </tr>\n",
       "    <tr>\n",
       "      <th>3</th>\n",
       "      <td>247.0</td>\n",
       "      <td>RAW_CAST</td>\n",
       "      <td>141.0</td>\n",
       "      <td>2.0</td>\n",
       "      <td>False</td>\n",
       "      <td>89.0</td>\n",
       "      <td>INNER</td>\n",
       "      <td>2.0</td>\n",
       "      <td>RAW_MELEE</td>\n",
       "      <td>False</td>\n",
       "    </tr>\n",
       "    <tr>\n",
       "      <th>4</th>\n",
       "      <td>163.0</td>\n",
       "      <td>PROC_CAST</td>\n",
       "      <td>126.0</td>\n",
       "      <td>1.0</td>\n",
       "      <td>True</td>\n",
       "      <td>64.0</td>\n",
       "      <td>INNER</td>\n",
       "      <td>2.0</td>\n",
       "      <td>PROC_MELEE</td>\n",
       "      <td>True</td>\n",
       "    </tr>\n",
       "    <tr>\n",
       "      <th>...</th>\n",
       "      <td>...</td>\n",
       "      <td>...</td>\n",
       "      <td>...</td>\n",
       "      <td>...</td>\n",
       "      <td>...</td>\n",
       "      <td>...</td>\n",
       "      <td>...</td>\n",
       "      <td>...</td>\n",
       "      <td>...</td>\n",
       "      <td>...</td>\n",
       "    </tr>\n",
       "    <tr>\n",
       "      <th>3616</th>\n",
       "      <td>204.0</td>\n",
       "      <td>RAW_CAST</td>\n",
       "      <td>171.0</td>\n",
       "      <td>2.0</td>\n",
       "      <td>False</td>\n",
       "      <td>23.0</td>\n",
       "      <td>OUTER</td>\n",
       "      <td>1.0</td>\n",
       "      <td>NaN</td>\n",
       "      <td>NaN</td>\n",
       "    </tr>\n",
       "    <tr>\n",
       "      <th>3617</th>\n",
       "      <td>259.0</td>\n",
       "      <td>HYBRID</td>\n",
       "      <td>160.0</td>\n",
       "      <td>2.0</td>\n",
       "      <td>False</td>\n",
       "      <td>55.0</td>\n",
       "      <td>INNER</td>\n",
       "      <td>1.0</td>\n",
       "      <td>NaN</td>\n",
       "      <td>NaN</td>\n",
       "    </tr>\n",
       "    <tr>\n",
       "      <th>3618</th>\n",
       "      <td>288.0</td>\n",
       "      <td>PROC_CAST</td>\n",
       "      <td>173.0</td>\n",
       "      <td>2.0</td>\n",
       "      <td>False</td>\n",
       "      <td>60.0</td>\n",
       "      <td>INNER</td>\n",
       "      <td>2.0</td>\n",
       "      <td>HYBRID</td>\n",
       "      <td>True</td>\n",
       "    </tr>\n",
       "    <tr>\n",
       "      <th>3619</th>\n",
       "      <td>58.0</td>\n",
       "      <td>PROC_CAST</td>\n",
       "      <td>139.0</td>\n",
       "      <td>2.0</td>\n",
       "      <td>False</td>\n",
       "      <td>42.0</td>\n",
       "      <td>CENTER</td>\n",
       "      <td>1.0</td>\n",
       "      <td>NaN</td>\n",
       "      <td>NaN</td>\n",
       "    </tr>\n",
       "    <tr>\n",
       "      <th>3620</th>\n",
       "      <td>270.0</td>\n",
       "      <td>HYBRID</td>\n",
       "      <td>128.0</td>\n",
       "      <td>1.0</td>\n",
       "      <td>True</td>\n",
       "      <td>73.0</td>\n",
       "      <td>INNER</td>\n",
       "      <td>2.0</td>\n",
       "      <td>PROC_CAST</td>\n",
       "      <td>False</td>\n",
       "    </tr>\n",
       "  </tbody>\n",
       "</table>\n",
       "<p>3621 rows × 10 columns</p>\n",
       "</div>"
      ],
      "text/plain": [
       "      Host_Death_Time  Host_Build  Level  Phase  Waterflow_Death  Health_Pct  \\\n",
       "0               299.0   RAW_MELEE  124.0    2.0             True        66.0   \n",
       "1               261.0      HYBRID  169.0    2.0             True        92.0   \n",
       "2               148.0  PROC_MELEE  179.0    1.0             True        93.0   \n",
       "3               247.0    RAW_CAST  141.0    2.0            False        89.0   \n",
       "4               163.0   PROC_CAST  126.0    1.0             True        64.0   \n",
       "...               ...         ...    ...    ...              ...         ...   \n",
       "3616            204.0    RAW_CAST  171.0    2.0            False        23.0   \n",
       "3617            259.0      HYBRID  160.0    2.0            False        55.0   \n",
       "3618            288.0   PROC_CAST  173.0    2.0            False        60.0   \n",
       "3619             58.0   PROC_CAST  139.0    2.0            False        42.0   \n",
       "3620            270.0      HYBRID  128.0    1.0             True        73.0   \n",
       "\n",
       "     Location  Phantom_Count Phantom_Build Phantom_Death  \n",
       "0       INNER            2.0     RAW_MELEE          True  \n",
       "1      CENTER            2.0     PROC_CAST          True  \n",
       "2       INNER            1.0           NaN           NaN  \n",
       "3       INNER            2.0     RAW_MELEE         False  \n",
       "4       INNER            2.0    PROC_MELEE          True  \n",
       "...       ...            ...           ...           ...  \n",
       "3616    OUTER            1.0           NaN           NaN  \n",
       "3617    INNER            1.0           NaN           NaN  \n",
       "3618    INNER            2.0        HYBRID          True  \n",
       "3619   CENTER            1.0           NaN           NaN  \n",
       "3620    INNER            2.0     PROC_CAST         False  \n",
       "\n",
       "[3621 rows x 10 columns]"
      ]
     },
     "execution_count": 235,
     "metadata": {},
     "output_type": "execute_result"
    }
   ],
   "source": [
    "df = pd.read_csv(\"./malenia.csv\")\n",
    "df"
   ]
  },
  {
   "cell_type": "code",
   "execution_count": 236,
   "id": "57b2c687",
   "metadata": {
    "scrolled": true
   },
   "outputs": [
    {
     "data": {
      "text/html": [
       "<div>\n",
       "<style scoped>\n",
       "    .dataframe tbody tr th:only-of-type {\n",
       "        vertical-align: middle;\n",
       "    }\n",
       "\n",
       "    .dataframe tbody tr th {\n",
       "        vertical-align: top;\n",
       "    }\n",
       "\n",
       "    .dataframe thead th {\n",
       "        text-align: right;\n",
       "    }\n",
       "</style>\n",
       "<table border=\"1\" class=\"dataframe\">\n",
       "  <thead>\n",
       "    <tr style=\"text-align: right;\">\n",
       "      <th></th>\n",
       "      <th>Host_Death_Time</th>\n",
       "      <th>Host_Build</th>\n",
       "      <th>Level</th>\n",
       "      <th>Phase</th>\n",
       "      <th>Waterflow_Death</th>\n",
       "      <th>Health_Pct</th>\n",
       "      <th>Location</th>\n",
       "      <th>Phantom_Count</th>\n",
       "      <th>Phantom_Build</th>\n",
       "      <th>Phantom_Death</th>\n",
       "    </tr>\n",
       "  </thead>\n",
       "  <tbody>\n",
       "    <tr>\n",
       "      <th>0</th>\n",
       "      <td>299.0</td>\n",
       "      <td>RAW_MELEE</td>\n",
       "      <td>124.0</td>\n",
       "      <td>2.0</td>\n",
       "      <td>True</td>\n",
       "      <td>66.0</td>\n",
       "      <td>INNER</td>\n",
       "      <td>2.0</td>\n",
       "      <td>RAW_MELEE</td>\n",
       "      <td>True</td>\n",
       "    </tr>\n",
       "    <tr>\n",
       "      <th>1</th>\n",
       "      <td>261.0</td>\n",
       "      <td>HYBRID</td>\n",
       "      <td>169.0</td>\n",
       "      <td>2.0</td>\n",
       "      <td>True</td>\n",
       "      <td>92.0</td>\n",
       "      <td>CENTER</td>\n",
       "      <td>2.0</td>\n",
       "      <td>PROC_CAST</td>\n",
       "      <td>True</td>\n",
       "    </tr>\n",
       "    <tr>\n",
       "      <th>2</th>\n",
       "      <td>148.0</td>\n",
       "      <td>PROC_MELEE</td>\n",
       "      <td>179.0</td>\n",
       "      <td>1.0</td>\n",
       "      <td>True</td>\n",
       "      <td>93.0</td>\n",
       "      <td>INNER</td>\n",
       "      <td>1.0</td>\n",
       "      <td>NaN</td>\n",
       "      <td>NaN</td>\n",
       "    </tr>\n",
       "    <tr>\n",
       "      <th>3</th>\n",
       "      <td>247.0</td>\n",
       "      <td>RAW_CAST</td>\n",
       "      <td>141.0</td>\n",
       "      <td>2.0</td>\n",
       "      <td>False</td>\n",
       "      <td>89.0</td>\n",
       "      <td>INNER</td>\n",
       "      <td>2.0</td>\n",
       "      <td>RAW_MELEE</td>\n",
       "      <td>False</td>\n",
       "    </tr>\n",
       "    <tr>\n",
       "      <th>4</th>\n",
       "      <td>163.0</td>\n",
       "      <td>PROC_CAST</td>\n",
       "      <td>126.0</td>\n",
       "      <td>1.0</td>\n",
       "      <td>True</td>\n",
       "      <td>64.0</td>\n",
       "      <td>INNER</td>\n",
       "      <td>2.0</td>\n",
       "      <td>PROC_MELEE</td>\n",
       "      <td>True</td>\n",
       "    </tr>\n",
       "    <tr>\n",
       "      <th>...</th>\n",
       "      <td>...</td>\n",
       "      <td>...</td>\n",
       "      <td>...</td>\n",
       "      <td>...</td>\n",
       "      <td>...</td>\n",
       "      <td>...</td>\n",
       "      <td>...</td>\n",
       "      <td>...</td>\n",
       "      <td>...</td>\n",
       "      <td>...</td>\n",
       "    </tr>\n",
       "    <tr>\n",
       "      <th>3616</th>\n",
       "      <td>204.0</td>\n",
       "      <td>RAW_CAST</td>\n",
       "      <td>171.0</td>\n",
       "      <td>2.0</td>\n",
       "      <td>False</td>\n",
       "      <td>23.0</td>\n",
       "      <td>OUTER</td>\n",
       "      <td>1.0</td>\n",
       "      <td>NaN</td>\n",
       "      <td>NaN</td>\n",
       "    </tr>\n",
       "    <tr>\n",
       "      <th>3617</th>\n",
       "      <td>259.0</td>\n",
       "      <td>HYBRID</td>\n",
       "      <td>160.0</td>\n",
       "      <td>2.0</td>\n",
       "      <td>False</td>\n",
       "      <td>55.0</td>\n",
       "      <td>INNER</td>\n",
       "      <td>1.0</td>\n",
       "      <td>NaN</td>\n",
       "      <td>NaN</td>\n",
       "    </tr>\n",
       "    <tr>\n",
       "      <th>3618</th>\n",
       "      <td>288.0</td>\n",
       "      <td>PROC_CAST</td>\n",
       "      <td>173.0</td>\n",
       "      <td>2.0</td>\n",
       "      <td>False</td>\n",
       "      <td>60.0</td>\n",
       "      <td>INNER</td>\n",
       "      <td>2.0</td>\n",
       "      <td>HYBRID</td>\n",
       "      <td>True</td>\n",
       "    </tr>\n",
       "    <tr>\n",
       "      <th>3619</th>\n",
       "      <td>58.0</td>\n",
       "      <td>PROC_CAST</td>\n",
       "      <td>139.0</td>\n",
       "      <td>2.0</td>\n",
       "      <td>False</td>\n",
       "      <td>42.0</td>\n",
       "      <td>CENTER</td>\n",
       "      <td>1.0</td>\n",
       "      <td>NaN</td>\n",
       "      <td>NaN</td>\n",
       "    </tr>\n",
       "    <tr>\n",
       "      <th>3620</th>\n",
       "      <td>270.0</td>\n",
       "      <td>HYBRID</td>\n",
       "      <td>128.0</td>\n",
       "      <td>1.0</td>\n",
       "      <td>True</td>\n",
       "      <td>73.0</td>\n",
       "      <td>INNER</td>\n",
       "      <td>2.0</td>\n",
       "      <td>PROC_CAST</td>\n",
       "      <td>False</td>\n",
       "    </tr>\n",
       "  </tbody>\n",
       "</table>\n",
       "<p>3621 rows × 10 columns</p>\n",
       "</div>"
      ],
      "text/plain": [
       "      Host_Death_Time  Host_Build  Level  Phase  Waterflow_Death  Health_Pct  \\\n",
       "0               299.0   RAW_MELEE  124.0    2.0             True        66.0   \n",
       "1               261.0      HYBRID  169.0    2.0             True        92.0   \n",
       "2               148.0  PROC_MELEE  179.0    1.0             True        93.0   \n",
       "3               247.0    RAW_CAST  141.0    2.0            False        89.0   \n",
       "4               163.0   PROC_CAST  126.0    1.0             True        64.0   \n",
       "...               ...         ...    ...    ...              ...         ...   \n",
       "3616            204.0    RAW_CAST  171.0    2.0            False        23.0   \n",
       "3617            259.0      HYBRID  160.0    2.0            False        55.0   \n",
       "3618            288.0   PROC_CAST  173.0    2.0            False        60.0   \n",
       "3619             58.0   PROC_CAST  139.0    2.0            False        42.0   \n",
       "3620            270.0      HYBRID  128.0    1.0             True        73.0   \n",
       "\n",
       "     Location  Phantom_Count Phantom_Build Phantom_Death  \n",
       "0       INNER            2.0     RAW_MELEE          True  \n",
       "1      CENTER            2.0     PROC_CAST          True  \n",
       "2       INNER            1.0           NaN           NaN  \n",
       "3       INNER            2.0     RAW_MELEE         False  \n",
       "4       INNER            2.0    PROC_MELEE          True  \n",
       "...       ...            ...           ...           ...  \n",
       "3616    OUTER            1.0           NaN           NaN  \n",
       "3617    INNER            1.0           NaN           NaN  \n",
       "3618    INNER            2.0        HYBRID          True  \n",
       "3619   CENTER            1.0           NaN           NaN  \n",
       "3620    INNER            2.0     PROC_CAST         False  \n",
       "\n",
       "[3621 rows x 10 columns]"
      ]
     },
     "execution_count": 236,
     "metadata": {},
     "output_type": "execute_result"
    }
   ],
   "source": [
    "df"
   ]
  },
  {
   "cell_type": "code",
   "execution_count": 237,
   "id": "2c8cc17b",
   "metadata": {},
   "outputs": [
    {
     "data": {
      "text/plain": [
       "Host_Death_Time       0\n",
       "Host_Build            0\n",
       "Level                 0\n",
       "Phase                 0\n",
       "Waterflow_Death       0\n",
       "Health_Pct            0\n",
       "Location              0\n",
       "Phantom_Count         0\n",
       "Phantom_Build      1196\n",
       "Phantom_Death      1196\n",
       "dtype: int64"
      ]
     },
     "execution_count": 237,
     "metadata": {},
     "output_type": "execute_result"
    }
   ],
   "source": [
    "df.isna().sum()"
   ]
  },
  {
   "cell_type": "markdown",
   "id": "88b27188",
   "metadata": {},
   "source": [
    "# 레이블 인코딩"
   ]
  },
  {
   "cell_type": "code",
   "execution_count": 238,
   "id": "338b2ca0",
   "metadata": {},
   "outputs": [],
   "source": [
    "import seaborn as sns "
   ]
  },
  {
   "cell_type": "code",
   "execution_count": 239,
   "id": "76ec88a8",
   "metadata": {},
   "outputs": [
    {
     "data": {
      "text/plain": [
       "array([1, 1, 2, ..., 1, 2, 0])"
      ]
     },
     "execution_count": 239,
     "metadata": {},
     "output_type": "execute_result"
    }
   ],
   "source": [
    "from sklearn.preprocessing import LabelEncoder\n",
    "encoder = LabelEncoder()\n",
    "encoder.fit(df['Phantom_Death'])\n",
    "digit_label = encoder.transform(df['Phantom_Death'])\n",
    "digit_label"
   ]
  },
  {
   "cell_type": "code",
   "execution_count": 240,
   "id": "cca9161b",
   "metadata": {},
   "outputs": [],
   "source": [
    "df['Phantom_Death'] = digit_label"
   ]
  },
  {
   "cell_type": "code",
   "execution_count": 241,
   "id": "d1be9d6b",
   "metadata": {
    "scrolled": true
   },
   "outputs": [
    {
     "data": {
      "text/html": [
       "<div>\n",
       "<style scoped>\n",
       "    .dataframe tbody tr th:only-of-type {\n",
       "        vertical-align: middle;\n",
       "    }\n",
       "\n",
       "    .dataframe tbody tr th {\n",
       "        vertical-align: top;\n",
       "    }\n",
       "\n",
       "    .dataframe thead th {\n",
       "        text-align: right;\n",
       "    }\n",
       "</style>\n",
       "<table border=\"1\" class=\"dataframe\">\n",
       "  <thead>\n",
       "    <tr style=\"text-align: right;\">\n",
       "      <th></th>\n",
       "      <th>Host_Death_Time</th>\n",
       "      <th>Host_Build</th>\n",
       "      <th>Level</th>\n",
       "      <th>Phase</th>\n",
       "      <th>Waterflow_Death</th>\n",
       "      <th>Health_Pct</th>\n",
       "      <th>Location</th>\n",
       "      <th>Phantom_Count</th>\n",
       "      <th>Phantom_Build</th>\n",
       "      <th>Phantom_Death</th>\n",
       "    </tr>\n",
       "  </thead>\n",
       "  <tbody>\n",
       "    <tr>\n",
       "      <th>0</th>\n",
       "      <td>299.0</td>\n",
       "      <td>RAW_MELEE</td>\n",
       "      <td>124.0</td>\n",
       "      <td>2.0</td>\n",
       "      <td>True</td>\n",
       "      <td>66.0</td>\n",
       "      <td>INNER</td>\n",
       "      <td>2.0</td>\n",
       "      <td>RAW_MELEE</td>\n",
       "      <td>1</td>\n",
       "    </tr>\n",
       "    <tr>\n",
       "      <th>1</th>\n",
       "      <td>261.0</td>\n",
       "      <td>HYBRID</td>\n",
       "      <td>169.0</td>\n",
       "      <td>2.0</td>\n",
       "      <td>True</td>\n",
       "      <td>92.0</td>\n",
       "      <td>CENTER</td>\n",
       "      <td>2.0</td>\n",
       "      <td>PROC_CAST</td>\n",
       "      <td>1</td>\n",
       "    </tr>\n",
       "    <tr>\n",
       "      <th>2</th>\n",
       "      <td>148.0</td>\n",
       "      <td>PROC_MELEE</td>\n",
       "      <td>179.0</td>\n",
       "      <td>1.0</td>\n",
       "      <td>True</td>\n",
       "      <td>93.0</td>\n",
       "      <td>INNER</td>\n",
       "      <td>1.0</td>\n",
       "      <td>NaN</td>\n",
       "      <td>2</td>\n",
       "    </tr>\n",
       "    <tr>\n",
       "      <th>3</th>\n",
       "      <td>247.0</td>\n",
       "      <td>RAW_CAST</td>\n",
       "      <td>141.0</td>\n",
       "      <td>2.0</td>\n",
       "      <td>False</td>\n",
       "      <td>89.0</td>\n",
       "      <td>INNER</td>\n",
       "      <td>2.0</td>\n",
       "      <td>RAW_MELEE</td>\n",
       "      <td>0</td>\n",
       "    </tr>\n",
       "    <tr>\n",
       "      <th>4</th>\n",
       "      <td>163.0</td>\n",
       "      <td>PROC_CAST</td>\n",
       "      <td>126.0</td>\n",
       "      <td>1.0</td>\n",
       "      <td>True</td>\n",
       "      <td>64.0</td>\n",
       "      <td>INNER</td>\n",
       "      <td>2.0</td>\n",
       "      <td>PROC_MELEE</td>\n",
       "      <td>1</td>\n",
       "    </tr>\n",
       "    <tr>\n",
       "      <th>...</th>\n",
       "      <td>...</td>\n",
       "      <td>...</td>\n",
       "      <td>...</td>\n",
       "      <td>...</td>\n",
       "      <td>...</td>\n",
       "      <td>...</td>\n",
       "      <td>...</td>\n",
       "      <td>...</td>\n",
       "      <td>...</td>\n",
       "      <td>...</td>\n",
       "    </tr>\n",
       "    <tr>\n",
       "      <th>3616</th>\n",
       "      <td>204.0</td>\n",
       "      <td>RAW_CAST</td>\n",
       "      <td>171.0</td>\n",
       "      <td>2.0</td>\n",
       "      <td>False</td>\n",
       "      <td>23.0</td>\n",
       "      <td>OUTER</td>\n",
       "      <td>1.0</td>\n",
       "      <td>NaN</td>\n",
       "      <td>2</td>\n",
       "    </tr>\n",
       "    <tr>\n",
       "      <th>3617</th>\n",
       "      <td>259.0</td>\n",
       "      <td>HYBRID</td>\n",
       "      <td>160.0</td>\n",
       "      <td>2.0</td>\n",
       "      <td>False</td>\n",
       "      <td>55.0</td>\n",
       "      <td>INNER</td>\n",
       "      <td>1.0</td>\n",
       "      <td>NaN</td>\n",
       "      <td>2</td>\n",
       "    </tr>\n",
       "    <tr>\n",
       "      <th>3618</th>\n",
       "      <td>288.0</td>\n",
       "      <td>PROC_CAST</td>\n",
       "      <td>173.0</td>\n",
       "      <td>2.0</td>\n",
       "      <td>False</td>\n",
       "      <td>60.0</td>\n",
       "      <td>INNER</td>\n",
       "      <td>2.0</td>\n",
       "      <td>HYBRID</td>\n",
       "      <td>1</td>\n",
       "    </tr>\n",
       "    <tr>\n",
       "      <th>3619</th>\n",
       "      <td>58.0</td>\n",
       "      <td>PROC_CAST</td>\n",
       "      <td>139.0</td>\n",
       "      <td>2.0</td>\n",
       "      <td>False</td>\n",
       "      <td>42.0</td>\n",
       "      <td>CENTER</td>\n",
       "      <td>1.0</td>\n",
       "      <td>NaN</td>\n",
       "      <td>2</td>\n",
       "    </tr>\n",
       "    <tr>\n",
       "      <th>3620</th>\n",
       "      <td>270.0</td>\n",
       "      <td>HYBRID</td>\n",
       "      <td>128.0</td>\n",
       "      <td>1.0</td>\n",
       "      <td>True</td>\n",
       "      <td>73.0</td>\n",
       "      <td>INNER</td>\n",
       "      <td>2.0</td>\n",
       "      <td>PROC_CAST</td>\n",
       "      <td>0</td>\n",
       "    </tr>\n",
       "  </tbody>\n",
       "</table>\n",
       "<p>3621 rows × 10 columns</p>\n",
       "</div>"
      ],
      "text/plain": [
       "      Host_Death_Time  Host_Build  Level  Phase  Waterflow_Death  Health_Pct  \\\n",
       "0               299.0   RAW_MELEE  124.0    2.0             True        66.0   \n",
       "1               261.0      HYBRID  169.0    2.0             True        92.0   \n",
       "2               148.0  PROC_MELEE  179.0    1.0             True        93.0   \n",
       "3               247.0    RAW_CAST  141.0    2.0            False        89.0   \n",
       "4               163.0   PROC_CAST  126.0    1.0             True        64.0   \n",
       "...               ...         ...    ...    ...              ...         ...   \n",
       "3616            204.0    RAW_CAST  171.0    2.0            False        23.0   \n",
       "3617            259.0      HYBRID  160.0    2.0            False        55.0   \n",
       "3618            288.0   PROC_CAST  173.0    2.0            False        60.0   \n",
       "3619             58.0   PROC_CAST  139.0    2.0            False        42.0   \n",
       "3620            270.0      HYBRID  128.0    1.0             True        73.0   \n",
       "\n",
       "     Location  Phantom_Count Phantom_Build  Phantom_Death  \n",
       "0       INNER            2.0     RAW_MELEE              1  \n",
       "1      CENTER            2.0     PROC_CAST              1  \n",
       "2       INNER            1.0           NaN              2  \n",
       "3       INNER            2.0     RAW_MELEE              0  \n",
       "4       INNER            2.0    PROC_MELEE              1  \n",
       "...       ...            ...           ...            ...  \n",
       "3616    OUTER            1.0           NaN              2  \n",
       "3617    INNER            1.0           NaN              2  \n",
       "3618    INNER            2.0        HYBRID              1  \n",
       "3619   CENTER            1.0           NaN              2  \n",
       "3620    INNER            2.0     PROC_CAST              0  \n",
       "\n",
       "[3621 rows x 10 columns]"
      ]
     },
     "execution_count": 241,
     "metadata": {},
     "output_type": "execute_result"
    }
   ],
   "source": [
    "df"
   ]
  },
  {
   "cell_type": "code",
   "execution_count": 242,
   "id": "683b925a",
   "metadata": {},
   "outputs": [],
   "source": [
    "df['Waterflow_Death'] = df['Waterflow_Death'].apply(lambda x : 1 if x else 0 )  "
   ]
  },
  {
   "cell_type": "code",
   "execution_count": 243,
   "id": "f0fa88ac",
   "metadata": {},
   "outputs": [
    {
     "data": {
      "text/html": [
       "<div>\n",
       "<style scoped>\n",
       "    .dataframe tbody tr th:only-of-type {\n",
       "        vertical-align: middle;\n",
       "    }\n",
       "\n",
       "    .dataframe tbody tr th {\n",
       "        vertical-align: top;\n",
       "    }\n",
       "\n",
       "    .dataframe thead th {\n",
       "        text-align: right;\n",
       "    }\n",
       "</style>\n",
       "<table border=\"1\" class=\"dataframe\">\n",
       "  <thead>\n",
       "    <tr style=\"text-align: right;\">\n",
       "      <th></th>\n",
       "      <th>Host_Death_Time</th>\n",
       "      <th>Host_Build</th>\n",
       "      <th>Level</th>\n",
       "      <th>Phase</th>\n",
       "      <th>Waterflow_Death</th>\n",
       "      <th>Health_Pct</th>\n",
       "      <th>Location</th>\n",
       "      <th>Phantom_Count</th>\n",
       "      <th>Phantom_Build</th>\n",
       "      <th>Phantom_Death</th>\n",
       "    </tr>\n",
       "  </thead>\n",
       "  <tbody>\n",
       "    <tr>\n",
       "      <th>0</th>\n",
       "      <td>299.0</td>\n",
       "      <td>RAW_MELEE</td>\n",
       "      <td>124.0</td>\n",
       "      <td>2.0</td>\n",
       "      <td>1</td>\n",
       "      <td>66.0</td>\n",
       "      <td>INNER</td>\n",
       "      <td>2.0</td>\n",
       "      <td>RAW_MELEE</td>\n",
       "      <td>1</td>\n",
       "    </tr>\n",
       "    <tr>\n",
       "      <th>1</th>\n",
       "      <td>261.0</td>\n",
       "      <td>HYBRID</td>\n",
       "      <td>169.0</td>\n",
       "      <td>2.0</td>\n",
       "      <td>1</td>\n",
       "      <td>92.0</td>\n",
       "      <td>CENTER</td>\n",
       "      <td>2.0</td>\n",
       "      <td>PROC_CAST</td>\n",
       "      <td>1</td>\n",
       "    </tr>\n",
       "    <tr>\n",
       "      <th>2</th>\n",
       "      <td>148.0</td>\n",
       "      <td>PROC_MELEE</td>\n",
       "      <td>179.0</td>\n",
       "      <td>1.0</td>\n",
       "      <td>1</td>\n",
       "      <td>93.0</td>\n",
       "      <td>INNER</td>\n",
       "      <td>1.0</td>\n",
       "      <td>NaN</td>\n",
       "      <td>2</td>\n",
       "    </tr>\n",
       "    <tr>\n",
       "      <th>3</th>\n",
       "      <td>247.0</td>\n",
       "      <td>RAW_CAST</td>\n",
       "      <td>141.0</td>\n",
       "      <td>2.0</td>\n",
       "      <td>0</td>\n",
       "      <td>89.0</td>\n",
       "      <td>INNER</td>\n",
       "      <td>2.0</td>\n",
       "      <td>RAW_MELEE</td>\n",
       "      <td>0</td>\n",
       "    </tr>\n",
       "    <tr>\n",
       "      <th>4</th>\n",
       "      <td>163.0</td>\n",
       "      <td>PROC_CAST</td>\n",
       "      <td>126.0</td>\n",
       "      <td>1.0</td>\n",
       "      <td>1</td>\n",
       "      <td>64.0</td>\n",
       "      <td>INNER</td>\n",
       "      <td>2.0</td>\n",
       "      <td>PROC_MELEE</td>\n",
       "      <td>1</td>\n",
       "    </tr>\n",
       "  </tbody>\n",
       "</table>\n",
       "</div>"
      ],
      "text/plain": [
       "   Host_Death_Time  Host_Build  Level  Phase  Waterflow_Death  Health_Pct  \\\n",
       "0            299.0   RAW_MELEE  124.0    2.0                1        66.0   \n",
       "1            261.0      HYBRID  169.0    2.0                1        92.0   \n",
       "2            148.0  PROC_MELEE  179.0    1.0                1        93.0   \n",
       "3            247.0    RAW_CAST  141.0    2.0                0        89.0   \n",
       "4            163.0   PROC_CAST  126.0    1.0                1        64.0   \n",
       "\n",
       "  Location  Phantom_Count Phantom_Build  Phantom_Death  \n",
       "0    INNER            2.0     RAW_MELEE              1  \n",
       "1   CENTER            2.0     PROC_CAST              1  \n",
       "2    INNER            1.0           NaN              2  \n",
       "3    INNER            2.0     RAW_MELEE              0  \n",
       "4    INNER            2.0    PROC_MELEE              1  "
      ]
     },
     "execution_count": 243,
     "metadata": {},
     "output_type": "execute_result"
    }
   ],
   "source": [
    "df.head()"
   ]
  },
  {
   "cell_type": "markdown",
   "id": "5f6d958a",
   "metadata": {},
   "source": [
    "# 죽음에 대한 분석 그래프"
   ]
  },
  {
   "cell_type": "code",
   "execution_count": 244,
   "id": "df6fa17e",
   "metadata": {},
   "outputs": [
    {
     "data": {
      "text/plain": [
       "<AxesSubplot:xlabel='Level', ylabel='Host_Death_Time'>"
      ]
     },
     "execution_count": 244,
     "metadata": {},
     "output_type": "execute_result"
    },
    {
     "data": {
      "image/png": "[encoded data removed]",
      "text/plain": [
       "<Figure size 720x720 with 1 Axes>"
      ]
     },
     "metadata": {
      "needs_background": "light"
     },
     "output_type": "display_data"
    }
   ],
   "source": [
    "plt.figure(figsize=(10,10))\n",
    "sns.lineplot(data=df,y=\"Host_Death_Time\",x=\"Level\")"
   ]
  },
  {
   "cell_type": "code",
   "execution_count": 245,
   "id": "27c685fa",
   "metadata": {},
   "outputs": [
    {
     "data": {
      "text/plain": [
       "<AxesSubplot:xlabel='Host_Build', ylabel='Host_Death_Time'>"
      ]
     },
     "execution_count": 245,
     "metadata": {},
     "output_type": "execute_result"
    },
    {
     "data": {
      "image/png": "[encoded data removed]",
      "text/plain": [
       "<Figure size 432x288 with 1 Axes>"
      ]
     },
     "metadata": {
      "needs_background": "light"
     },
     "output_type": "display_data"
    }
   ],
   "source": [
    "sns.lineplot(data=df,y=\"Host_Death_Time\",x=\"Host_Build\")"
   ]
  },
  {
   "cell_type": "code",
   "execution_count": 246,
   "id": "acf24513",
   "metadata": {},
   "outputs": [
    {
     "data": {
      "text/plain": [
       "<AxesSubplot:xlabel='Phantom_Count', ylabel='Host_Death_Time'>"
      ]
     },
     "execution_count": 246,
     "metadata": {},
     "output_type": "execute_result"
    },
    {
     "data": {
      "image/png": "[encoded data removed]",
      "text/plain": [
       "<Figure size 432x288 with 1 Axes>"
      ]
     },
     "metadata": {
      "needs_background": "light"
     },
     "output_type": "display_data"
    }
   ],
   "source": [
    "sns.lineplot(data=df,y=\"Host_Death_Time\",x=\"Phantom_Count\")"
   ]
  },
  {
   "cell_type": "code",
   "execution_count": 247,
   "id": "ad4bc317",
   "metadata": {},
   "outputs": [
    {
     "data": {
      "text/plain": [
       "<AxesSubplot:xlabel='Phase', ylabel='Host_Death_Time'>"
      ]
     },
     "execution_count": 247,
     "metadata": {},
     "output_type": "execute_result"
    },
    {
     "data": {
      "image/png": "[encoded data removed]",
      "text/plain": [
       "<Figure size 432x288 with 1 Axes>"
      ]
     },
     "metadata": {
      "needs_background": "light"
     },
     "output_type": "display_data"
    }
   ],
   "source": [
    "sns.lineplot(data=df,y=\"Host_Death_Time\",x=\"Phase\")"
   ]
  },
  {
   "cell_type": "code",
   "execution_count": 248,
   "id": "b6090c03",
   "metadata": {
    "scrolled": true
   },
   "outputs": [
    {
     "data": {
      "text/plain": [
       "<AxesSubplot:xlabel='Phantom_Build', ylabel='Host_Death_Time'>"
      ]
     },
     "execution_count": 248,
     "metadata": {},
     "output_type": "execute_result"
    },
    {
     "data": {
      "image/png": "[encoded data removed]",
      "text/plain": [
       "<Figure size 432x288 with 1 Axes>"
      ]
     },
     "metadata": {
      "needs_background": "light"
     },
     "output_type": "display_data"
    }
   ],
   "source": [
    "sns.lineplot(data=df,y=\"Host_Death_Time\",x=\"Phantom_Build\")"
   ]
  },
  {
   "cell_type": "code",
   "execution_count": 249,
   "id": "c9302000",
   "metadata": {
    "scrolled": true
   },
   "outputs": [
    {
     "data": {
      "text/plain": [
       "<AxesSubplot:xlabel='Phantom_Death', ylabel='Host_Death_Time'>"
      ]
     },
     "execution_count": 249,
     "metadata": {},
     "output_type": "execute_result"
    },
    {
     "data": {
      "image/png": "[encoded data removed]",
      "text/plain": [
       "<Figure size 432x288 with 1 Axes>"
      ]
     },
     "metadata": {
      "needs_background": "light"
     },
     "output_type": "display_data"
    }
   ],
   "source": [
    "sns.lineplot(data=df,y=\"Host_Death_Time\",x=\"Phantom_Death\")"
   ]
  },
  {
   "cell_type": "markdown",
   "id": "76d83c5e",
   "metadata": {},
   "source": [
    "# 페이즈에 대한 분석"
   ]
  },
  {
   "cell_type": "code",
   "execution_count": 250,
   "id": "3c23165d",
   "metadata": {},
   "outputs": [
    {
     "data": {
      "text/plain": [
       "<AxesSubplot:xlabel='Level', ylabel='Phase'>"
      ]
     },
     "execution_count": 250,
     "metadata": {},
     "output_type": "execute_result"
    },
    {
     "data": {
      "image/png": "[encoded data removed]",
      "text/plain": [
       "<Figure size 432x288 with 1 Axes>"
      ]
     },
     "metadata": {
      "needs_background": "light"
     },
     "output_type": "display_data"
    }
   ],
   "source": [
    "sns.lineplot(data=df,y=\"Phase\",x=\"Level\")"
   ]
  },
  {
   "cell_type": "code",
   "execution_count": 251,
   "id": "67d0da9a",
   "metadata": {},
   "outputs": [
    {
     "data": {
      "text/plain": [
       "<AxesSubplot:xlabel='Phantom_Count', ylabel='Phase'>"
      ]
     },
     "execution_count": 251,
     "metadata": {},
     "output_type": "execute_result"
    },
    {
     "data": {
      "image/png": "[encoded data removed]",
      "text/plain": [
       "<Figure size 432x288 with 1 Axes>"
      ]
     },
     "metadata": {
      "needs_background": "light"
     },
     "output_type": "display_data"
    }
   ],
   "source": [
    "sns.lineplot(data=df,y=\"Phase\",x=\"Phantom_Count\")"
   ]
  },
  {
   "cell_type": "code",
   "execution_count": 252,
   "id": "a8c5f0ab",
   "metadata": {},
   "outputs": [
    {
     "data": {
      "text/plain": [
       "<AxesSubplot:xlabel='Phantom_Death', ylabel='Phase'>"
      ]
     },
     "execution_count": 252,
     "metadata": {},
     "output_type": "execute_result"
    },
    {
     "data": {
      "image/png": "[encoded data removed]",
      "text/plain": [
       "<Figure size 432x288 with 1 Axes>"
      ]
     },
     "metadata": {
      "needs_background": "light"
     },
     "output_type": "display_data"
    }
   ],
   "source": [
    "sns.lineplot(data=df,y=\"Phase\",x=\"Phantom_Death\")"
   ]
  },
  {
   "cell_type": "code",
   "execution_count": 253,
   "id": "786829e0",
   "metadata": {},
   "outputs": [
    {
     "data": {
      "text/plain": [
       "<AxesSubplot:xlabel='Host_Build', ylabel='Phase'>"
      ]
     },
     "execution_count": 253,
     "metadata": {},
     "output_type": "execute_result"
    },
    {
     "data": {
      "image/png": "[encoded data removed]",
      "text/plain": [
       "<Figure size 432x288 with 1 Axes>"
      ]
     },
     "metadata": {
      "needs_background": "light"
     },
     "output_type": "display_data"
    }
   ],
   "source": [
    "sns.lineplot(data=df,y=\"Phase\",x=\"Host_Build\")"
   ]
  },
  {
   "cell_type": "code",
   "execution_count": 254,
   "id": "95a5ef69",
   "metadata": {},
   "outputs": [
    {
     "data": {
      "text/plain": [
       "<AxesSubplot:xlabel='Host_Death_Time', ylabel='Phase'>"
      ]
     },
     "execution_count": 254,
     "metadata": {},
     "output_type": "execute_result"
    },
    {
     "data": {
      "image/png": "[encoded data removed]",
      "text/plain": [
       "<Figure size 432x288 with 1 Axes>"
      ]
     },
     "metadata": {
      "needs_background": "light"
     },
     "output_type": "display_data"
    }
   ],
   "source": [
    "sns.lineplot(data=df,y=\"Phase\",x=\"Host_Death_Time\")"
   ]
  },
  {
   "cell_type": "code",
   "execution_count": 255,
   "id": "a5bb025b",
   "metadata": {
    "scrolled": false
   },
   "outputs": [
    {
     "data": {
      "text/html": [
       "<div>\n",
       "<style scoped>\n",
       "    .dataframe tbody tr th:only-of-type {\n",
       "        vertical-align: middle;\n",
       "    }\n",
       "\n",
       "    .dataframe tbody tr th {\n",
       "        vertical-align: top;\n",
       "    }\n",
       "\n",
       "    .dataframe thead th {\n",
       "        text-align: right;\n",
       "    }\n",
       "</style>\n",
       "<table border=\"1\" class=\"dataframe\">\n",
       "  <thead>\n",
       "    <tr style=\"text-align: right;\">\n",
       "      <th></th>\n",
       "      <th>Host_Death_Time</th>\n",
       "      <th>Host_Build</th>\n",
       "      <th>Level</th>\n",
       "      <th>Phase</th>\n",
       "      <th>Waterflow_Death</th>\n",
       "      <th>Health_Pct</th>\n",
       "      <th>Location</th>\n",
       "      <th>Phantom_Count</th>\n",
       "      <th>Phantom_Build</th>\n",
       "      <th>Phantom_Death</th>\n",
       "    </tr>\n",
       "  </thead>\n",
       "  <tbody>\n",
       "    <tr>\n",
       "      <th>982</th>\n",
       "      <td>11.0</td>\n",
       "      <td>PROC_MELEE</td>\n",
       "      <td>159.0</td>\n",
       "      <td>2.0</td>\n",
       "      <td>0</td>\n",
       "      <td>86.0</td>\n",
       "      <td>CENTER</td>\n",
       "      <td>1.0</td>\n",
       "      <td>NaN</td>\n",
       "      <td>2</td>\n",
       "    </tr>\n",
       "    <tr>\n",
       "      <th>1628</th>\n",
       "      <td>11.0</td>\n",
       "      <td>PROC_CAST</td>\n",
       "      <td>158.0</td>\n",
       "      <td>1.0</td>\n",
       "      <td>0</td>\n",
       "      <td>92.0</td>\n",
       "      <td>OUTER</td>\n",
       "      <td>2.0</td>\n",
       "      <td>RAW_CAST</td>\n",
       "      <td>1</td>\n",
       "    </tr>\n",
       "    <tr>\n",
       "      <th>2303</th>\n",
       "      <td>11.0</td>\n",
       "      <td>PROC_MELEE</td>\n",
       "      <td>133.0</td>\n",
       "      <td>1.0</td>\n",
       "      <td>0</td>\n",
       "      <td>88.0</td>\n",
       "      <td>INNER</td>\n",
       "      <td>2.0</td>\n",
       "      <td>PROC_MELEE</td>\n",
       "      <td>0</td>\n",
       "    </tr>\n",
       "    <tr>\n",
       "      <th>2548</th>\n",
       "      <td>11.0</td>\n",
       "      <td>PROC_CAST</td>\n",
       "      <td>173.0</td>\n",
       "      <td>2.0</td>\n",
       "      <td>1</td>\n",
       "      <td>83.0</td>\n",
       "      <td>OUTER</td>\n",
       "      <td>2.0</td>\n",
       "      <td>RAW_MELEE</td>\n",
       "      <td>0</td>\n",
       "    </tr>\n",
       "    <tr>\n",
       "      <th>2699</th>\n",
       "      <td>10.0</td>\n",
       "      <td>PROC_MELEE</td>\n",
       "      <td>122.0</td>\n",
       "      <td>2.0</td>\n",
       "      <td>1</td>\n",
       "      <td>78.0</td>\n",
       "      <td>CENTER</td>\n",
       "      <td>1.0</td>\n",
       "      <td>NaN</td>\n",
       "      <td>2</td>\n",
       "    </tr>\n",
       "  </tbody>\n",
       "</table>\n",
       "</div>"
      ],
      "text/plain": [
       "      Host_Death_Time  Host_Build  Level  Phase  Waterflow_Death  Health_Pct  \\\n",
       "982              11.0  PROC_MELEE  159.0    2.0                0        86.0   \n",
       "1628             11.0   PROC_CAST  158.0    1.0                0        92.0   \n",
       "2303             11.0  PROC_MELEE  133.0    1.0                0        88.0   \n",
       "2548             11.0   PROC_CAST  173.0    2.0                1        83.0   \n",
       "2699             10.0  PROC_MELEE  122.0    2.0                1        78.0   \n",
       "\n",
       "     Location  Phantom_Count Phantom_Build  Phantom_Death  \n",
       "982    CENTER            1.0           NaN              2  \n",
       "1628    OUTER            2.0      RAW_CAST              1  \n",
       "2303    INNER            2.0    PROC_MELEE              0  \n",
       "2548    OUTER            2.0     RAW_MELEE              0  \n",
       "2699   CENTER            1.0           NaN              2  "
      ]
     },
     "execution_count": 255,
     "metadata": {},
     "output_type": "execute_result"
    }
   ],
   "source": [
    "df[df['Host_Death_Time']<12]"
   ]
  },
  {
   "cell_type": "markdown",
   "id": "d7eeb685",
   "metadata": {},
   "source": [
    "# 궁극기에 관한 분석"
   ]
  },
  {
   "cell_type": "code",
   "execution_count": 256,
   "id": "f776bc37",
   "metadata": {},
   "outputs": [
    {
     "data": {
      "text/plain": [
       "<AxesSubplot:xlabel='Level', ylabel='Waterflow_Death'>"
      ]
     },
     "execution_count": 256,
     "metadata": {},
     "output_type": "execute_result"
    },
    {
     "data": {
      "image/png": "[encoded data removed]",
      "text/plain": [
       "<Figure size 432x288 with 1 Axes>"
      ]
     },
     "metadata": {
      "needs_background": "light"
     },
     "output_type": "display_data"
    }
   ],
   "source": [
    "sns.lineplot(data=df,y=\"Waterflow_Death\",x=\"Level\")"
   ]
  },
  {
   "cell_type": "code",
   "execution_count": 259,
   "id": "ee5d4f01",
   "metadata": {},
   "outputs": [
    {
     "data": {
      "text/plain": [
       "<AxesSubplot:xlabel='Location', ylabel='Waterflow_Death'>"
      ]
     },
     "execution_count": 259,
     "metadata": {},
     "output_type": "execute_result"
    },
    {
     "data": {
      "image/png": "[encoded data removed]",
      "text/plain": [
       "<Figure size 432x288 with 1 Axes>"
      ]
     },
     "metadata": {
      "needs_background": "light"
     },
     "output_type": "display_data"
    }
   ],
   "source": [
    "sns.lineplot(data=df,y=\"Waterflow_Death\",x=\"Location\")"
   ]
  },
  {
   "cell_type": "code",
   "execution_count": 258,
   "id": "1993cf91",
   "metadata": {},
   "outputs": [
    {
     "data": {
      "text/plain": [
       "Text(0, 0.5, 'count')"
      ]
     },
     "execution_count": 258,
     "metadata": {},
     "output_type": "execute_result"
    },
    {
     "data": {
      "image/png": "[encoded data removed]",
      "text/plain": [
       "<Figure size 432x288 with 1 Axes>"
      ]
     },
     "metadata": {
      "needs_background": "light"
     },
     "output_type": "display_data"
    }
   ],
   "source": [
    "df[df['Waterflow_Death']==1][\"Location\"].value_counts().plot()\n",
    "plt.xlabel(\"Location\")\n",
    "plt.ylabel(\"count\")"
   ]
  },
  {
   "cell_type": "code",
   "execution_count": 260,
   "id": "1558f675",
   "metadata": {},
   "outputs": [
    {
     "data": {
      "text/plain": [
       "Text(0, 0.5, 'count')"
      ]
     },
     "execution_count": 260,
     "metadata": {},
     "output_type": "execute_result"
    },
    {
     "data": {
      "image/png": "[encoded data removed]",
      "text/plain": [
       "<Figure size 432x288 with 1 Axes>"
      ]
     },
     "metadata": {
      "needs_background": "light"
     },
     "output_type": "display_data"
    }
   ],
   "source": [
    "df[df['Waterflow_Death']==0][\"Location\"].value_counts().plot()\n",
    "plt.xlabel(\"Location\")\n",
    "plt.ylabel(\"count\")"
   ]
  },
  {
   "cell_type": "markdown",
   "id": "c7093ae4",
   "metadata": {},
   "source": [
    "## 원 핫 인코딩"
   ]
  },
  {
   "cell_type": "code",
   "execution_count": 261,
   "id": "02b73831",
   "metadata": {
    "scrolled": true
   },
   "outputs": [
    {
     "data": {
      "text/html": [
       "<div>\n",
       "<style scoped>\n",
       "    .dataframe tbody tr th:only-of-type {\n",
       "        vertical-align: middle;\n",
       "    }\n",
       "\n",
       "    .dataframe tbody tr th {\n",
       "        vertical-align: top;\n",
       "    }\n",
       "\n",
       "    .dataframe thead th {\n",
       "        text-align: right;\n",
       "    }\n",
       "</style>\n",
       "<table border=\"1\" class=\"dataframe\">\n",
       "  <thead>\n",
       "    <tr style=\"text-align: right;\">\n",
       "      <th></th>\n",
       "      <th>Host_Death_Time</th>\n",
       "      <th>Level</th>\n",
       "      <th>Phase</th>\n",
       "      <th>Waterflow_Death</th>\n",
       "      <th>Health_Pct</th>\n",
       "      <th>Location</th>\n",
       "      <th>Phantom_Count</th>\n",
       "      <th>Phantom_Build</th>\n",
       "      <th>Phantom_Death</th>\n",
       "      <th>Host_Build_HYBRID</th>\n",
       "      <th>Host_Build_PROC_CAST</th>\n",
       "      <th>Host_Build_PROC_MELEE</th>\n",
       "      <th>Host_Build_RAW_CAST</th>\n",
       "      <th>Host_Build_RAW_MELEE</th>\n",
       "    </tr>\n",
       "  </thead>\n",
       "  <tbody>\n",
       "    <tr>\n",
       "      <th>0</th>\n",
       "      <td>299.0</td>\n",
       "      <td>124.0</td>\n",
       "      <td>2.0</td>\n",
       "      <td>1</td>\n",
       "      <td>66.0</td>\n",
       "      <td>INNER</td>\n",
       "      <td>2.0</td>\n",
       "      <td>RAW_MELEE</td>\n",
       "      <td>1</td>\n",
       "      <td>0</td>\n",
       "      <td>0</td>\n",
       "      <td>0</td>\n",
       "      <td>0</td>\n",
       "      <td>1</td>\n",
       "    </tr>\n",
       "    <tr>\n",
       "      <th>1</th>\n",
       "      <td>261.0</td>\n",
       "      <td>169.0</td>\n",
       "      <td>2.0</td>\n",
       "      <td>1</td>\n",
       "      <td>92.0</td>\n",
       "      <td>CENTER</td>\n",
       "      <td>2.0</td>\n",
       "      <td>PROC_CAST</td>\n",
       "      <td>1</td>\n",
       "      <td>1</td>\n",
       "      <td>0</td>\n",
       "      <td>0</td>\n",
       "      <td>0</td>\n",
       "      <td>0</td>\n",
       "    </tr>\n",
       "    <tr>\n",
       "      <th>2</th>\n",
       "      <td>148.0</td>\n",
       "      <td>179.0</td>\n",
       "      <td>1.0</td>\n",
       "      <td>1</td>\n",
       "      <td>93.0</td>\n",
       "      <td>INNER</td>\n",
       "      <td>1.0</td>\n",
       "      <td>NaN</td>\n",
       "      <td>2</td>\n",
       "      <td>0</td>\n",
       "      <td>0</td>\n",
       "      <td>1</td>\n",
       "      <td>0</td>\n",
       "      <td>0</td>\n",
       "    </tr>\n",
       "    <tr>\n",
       "      <th>3</th>\n",
       "      <td>247.0</td>\n",
       "      <td>141.0</td>\n",
       "      <td>2.0</td>\n",
       "      <td>0</td>\n",
       "      <td>89.0</td>\n",
       "      <td>INNER</td>\n",
       "      <td>2.0</td>\n",
       "      <td>RAW_MELEE</td>\n",
       "      <td>0</td>\n",
       "      <td>0</td>\n",
       "      <td>0</td>\n",
       "      <td>0</td>\n",
       "      <td>1</td>\n",
       "      <td>0</td>\n",
       "    </tr>\n",
       "    <tr>\n",
       "      <th>4</th>\n",
       "      <td>163.0</td>\n",
       "      <td>126.0</td>\n",
       "      <td>1.0</td>\n",
       "      <td>1</td>\n",
       "      <td>64.0</td>\n",
       "      <td>INNER</td>\n",
       "      <td>2.0</td>\n",
       "      <td>PROC_MELEE</td>\n",
       "      <td>1</td>\n",
       "      <td>0</td>\n",
       "      <td>1</td>\n",
       "      <td>0</td>\n",
       "      <td>0</td>\n",
       "      <td>0</td>\n",
       "    </tr>\n",
       "  </tbody>\n",
       "</table>\n",
       "</div>"
      ],
      "text/plain": [
       "   Host_Death_Time  Level  Phase  Waterflow_Death  Health_Pct Location  \\\n",
       "0            299.0  124.0    2.0                1        66.0    INNER   \n",
       "1            261.0  169.0    2.0                1        92.0   CENTER   \n",
       "2            148.0  179.0    1.0                1        93.0    INNER   \n",
       "3            247.0  141.0    2.0                0        89.0    INNER   \n",
       "4            163.0  126.0    1.0                1        64.0    INNER   \n",
       "\n",
       "   Phantom_Count Phantom_Build  Phantom_Death  Host_Build_HYBRID  \\\n",
       "0            2.0     RAW_MELEE              1                  0   \n",
       "1            2.0     PROC_CAST              1                  1   \n",
       "2            1.0           NaN              2                  0   \n",
       "3            2.0     RAW_MELEE              0                  0   \n",
       "4            2.0    PROC_MELEE              1                  0   \n",
       "\n",
       "   Host_Build_PROC_CAST  Host_Build_PROC_MELEE  Host_Build_RAW_CAST  \\\n",
       "0                     0                      0                    0   \n",
       "1                     0                      0                    0   \n",
       "2                     0                      1                    0   \n",
       "3                     0                      0                    1   \n",
       "4                     1                      0                    0   \n",
       "\n",
       "   Host_Build_RAW_MELEE  \n",
       "0                     1  \n",
       "1                     0  \n",
       "2                     0  \n",
       "3                     0  \n",
       "4                     0  "
      ]
     },
     "execution_count": 261,
     "metadata": {},
     "output_type": "execute_result"
    }
   ],
   "source": [
    "df = pd.get_dummies(df,columns=[\"Host_Build\"])\n",
    "df.head()"
   ]
  },
  {
   "cell_type": "code",
   "execution_count": 262,
   "id": "8ae9920a",
   "metadata": {
    "scrolled": true
   },
   "outputs": [
    {
     "data": {
      "text/html": [
       "<div>\n",
       "<style scoped>\n",
       "    .dataframe tbody tr th:only-of-type {\n",
       "        vertical-align: middle;\n",
       "    }\n",
       "\n",
       "    .dataframe tbody tr th {\n",
       "        vertical-align: top;\n",
       "    }\n",
       "\n",
       "    .dataframe thead th {\n",
       "        text-align: right;\n",
       "    }\n",
       "</style>\n",
       "<table border=\"1\" class=\"dataframe\">\n",
       "  <thead>\n",
       "    <tr style=\"text-align: right;\">\n",
       "      <th></th>\n",
       "      <th>Host_Death_Time</th>\n",
       "      <th>Level</th>\n",
       "      <th>Phase</th>\n",
       "      <th>Waterflow_Death</th>\n",
       "      <th>Health_Pct</th>\n",
       "      <th>Location</th>\n",
       "      <th>Phantom_Count</th>\n",
       "      <th>Phantom_Death</th>\n",
       "      <th>Host_Build_HYBRID</th>\n",
       "      <th>Host_Build_PROC_CAST</th>\n",
       "      <th>Host_Build_PROC_MELEE</th>\n",
       "      <th>Host_Build_RAW_CAST</th>\n",
       "      <th>Host_Build_RAW_MELEE</th>\n",
       "      <th>Phantom_Build_HYBRID</th>\n",
       "      <th>Phantom_Build_PROC_CAST</th>\n",
       "      <th>Phantom_Build_PROC_MELEE</th>\n",
       "      <th>Phantom_Build_RAW_CAST</th>\n",
       "      <th>Phantom_Build_RAW_MELEE</th>\n",
       "    </tr>\n",
       "  </thead>\n",
       "  <tbody>\n",
       "    <tr>\n",
       "      <th>0</th>\n",
       "      <td>299.0</td>\n",
       "      <td>124.0</td>\n",
       "      <td>2.0</td>\n",
       "      <td>1</td>\n",
       "      <td>66.0</td>\n",
       "      <td>INNER</td>\n",
       "      <td>2.0</td>\n",
       "      <td>1</td>\n",
       "      <td>0</td>\n",
       "      <td>0</td>\n",
       "      <td>0</td>\n",
       "      <td>0</td>\n",
       "      <td>1</td>\n",
       "      <td>0</td>\n",
       "      <td>0</td>\n",
       "      <td>0</td>\n",
       "      <td>0</td>\n",
       "      <td>1</td>\n",
       "    </tr>\n",
       "    <tr>\n",
       "      <th>1</th>\n",
       "      <td>261.0</td>\n",
       "      <td>169.0</td>\n",
       "      <td>2.0</td>\n",
       "      <td>1</td>\n",
       "      <td>92.0</td>\n",
       "      <td>CENTER</td>\n",
       "      <td>2.0</td>\n",
       "      <td>1</td>\n",
       "      <td>1</td>\n",
       "      <td>0</td>\n",
       "      <td>0</td>\n",
       "      <td>0</td>\n",
       "      <td>0</td>\n",
       "      <td>0</td>\n",
       "      <td>1</td>\n",
       "      <td>0</td>\n",
       "      <td>0</td>\n",
       "      <td>0</td>\n",
       "    </tr>\n",
       "    <tr>\n",
       "      <th>2</th>\n",
       "      <td>148.0</td>\n",
       "      <td>179.0</td>\n",
       "      <td>1.0</td>\n",
       "      <td>1</td>\n",
       "      <td>93.0</td>\n",
       "      <td>INNER</td>\n",
       "      <td>1.0</td>\n",
       "      <td>2</td>\n",
       "      <td>0</td>\n",
       "      <td>0</td>\n",
       "      <td>1</td>\n",
       "      <td>0</td>\n",
       "      <td>0</td>\n",
       "      <td>0</td>\n",
       "      <td>0</td>\n",
       "      <td>0</td>\n",
       "      <td>0</td>\n",
       "      <td>0</td>\n",
       "    </tr>\n",
       "    <tr>\n",
       "      <th>3</th>\n",
       "      <td>247.0</td>\n",
       "      <td>141.0</td>\n",
       "      <td>2.0</td>\n",
       "      <td>0</td>\n",
       "      <td>89.0</td>\n",
       "      <td>INNER</td>\n",
       "      <td>2.0</td>\n",
       "      <td>0</td>\n",
       "      <td>0</td>\n",
       "      <td>0</td>\n",
       "      <td>0</td>\n",
       "      <td>1</td>\n",
       "      <td>0</td>\n",
       "      <td>0</td>\n",
       "      <td>0</td>\n",
       "      <td>0</td>\n",
       "      <td>0</td>\n",
       "      <td>1</td>\n",
       "    </tr>\n",
       "    <tr>\n",
       "      <th>4</th>\n",
       "      <td>163.0</td>\n",
       "      <td>126.0</td>\n",
       "      <td>1.0</td>\n",
       "      <td>1</td>\n",
       "      <td>64.0</td>\n",
       "      <td>INNER</td>\n",
       "      <td>2.0</td>\n",
       "      <td>1</td>\n",
       "      <td>0</td>\n",
       "      <td>1</td>\n",
       "      <td>0</td>\n",
       "      <td>0</td>\n",
       "      <td>0</td>\n",
       "      <td>0</td>\n",
       "      <td>0</td>\n",
       "      <td>1</td>\n",
       "      <td>0</td>\n",
       "      <td>0</td>\n",
       "    </tr>\n",
       "  </tbody>\n",
       "</table>\n",
       "</div>"
      ],
      "text/plain": [
       "   Host_Death_Time  Level  Phase  Waterflow_Death  Health_Pct Location  \\\n",
       "0            299.0  124.0    2.0                1        66.0    INNER   \n",
       "1            261.0  169.0    2.0                1        92.0   CENTER   \n",
       "2            148.0  179.0    1.0                1        93.0    INNER   \n",
       "3            247.0  141.0    2.0                0        89.0    INNER   \n",
       "4            163.0  126.0    1.0                1        64.0    INNER   \n",
       "\n",
       "   Phantom_Count  Phantom_Death  Host_Build_HYBRID  Host_Build_PROC_CAST  \\\n",
       "0            2.0              1                  0                     0   \n",
       "1            2.0              1                  1                     0   \n",
       "2            1.0              2                  0                     0   \n",
       "3            2.0              0                  0                     0   \n",
       "4            2.0              1                  0                     1   \n",
       "\n",
       "   Host_Build_PROC_MELEE  Host_Build_RAW_CAST  Host_Build_RAW_MELEE  \\\n",
       "0                      0                    0                     1   \n",
       "1                      0                    0                     0   \n",
       "2                      1                    0                     0   \n",
       "3                      0                    1                     0   \n",
       "4                      0                    0                     0   \n",
       "\n",
       "   Phantom_Build_HYBRID  Phantom_Build_PROC_CAST  Phantom_Build_PROC_MELEE  \\\n",
       "0                     0                        0                         0   \n",
       "1                     0                        1                         0   \n",
       "2                     0                        0                         0   \n",
       "3                     0                        0                         0   \n",
       "4                     0                        0                         1   \n",
       "\n",
       "   Phantom_Build_RAW_CAST  Phantom_Build_RAW_MELEE  \n",
       "0                       0                        1  \n",
       "1                       0                        0  \n",
       "2                       0                        0  \n",
       "3                       0                        1  \n",
       "4                       0                        0  "
      ]
     },
     "execution_count": 262,
     "metadata": {},
     "output_type": "execute_result"
    }
   ],
   "source": [
    "df = pd.get_dummies(df,columns=[\"Phantom_Build\"])\n",
    "df.head()"
   ]
  },
  {
   "cell_type": "code",
   "execution_count": 263,
   "id": "569d3f11",
   "metadata": {
    "scrolled": true
   },
   "outputs": [
    {
     "data": {
      "text/html": [
       "<div>\n",
       "<style scoped>\n",
       "    .dataframe tbody tr th:only-of-type {\n",
       "        vertical-align: middle;\n",
       "    }\n",
       "\n",
       "    .dataframe tbody tr th {\n",
       "        vertical-align: top;\n",
       "    }\n",
       "\n",
       "    .dataframe thead th {\n",
       "        text-align: right;\n",
       "    }\n",
       "</style>\n",
       "<table border=\"1\" class=\"dataframe\">\n",
       "  <thead>\n",
       "    <tr style=\"text-align: right;\">\n",
       "      <th></th>\n",
       "      <th>Host_Death_Time</th>\n",
       "      <th>Level</th>\n",
       "      <th>Phase</th>\n",
       "      <th>Waterflow_Death</th>\n",
       "      <th>Health_Pct</th>\n",
       "      <th>Phantom_Count</th>\n",
       "      <th>Phantom_Death</th>\n",
       "      <th>Host_Build_HYBRID</th>\n",
       "      <th>Host_Build_PROC_CAST</th>\n",
       "      <th>Host_Build_PROC_MELEE</th>\n",
       "      <th>Host_Build_RAW_CAST</th>\n",
       "      <th>Host_Build_RAW_MELEE</th>\n",
       "      <th>Phantom_Build_HYBRID</th>\n",
       "      <th>Phantom_Build_PROC_CAST</th>\n",
       "      <th>Phantom_Build_PROC_MELEE</th>\n",
       "      <th>Phantom_Build_RAW_CAST</th>\n",
       "      <th>Phantom_Build_RAW_MELEE</th>\n",
       "      <th>Location_CENTER</th>\n",
       "      <th>Location_INNER</th>\n",
       "      <th>Location_OUTER</th>\n",
       "    </tr>\n",
       "  </thead>\n",
       "  <tbody>\n",
       "    <tr>\n",
       "      <th>0</th>\n",
       "      <td>299.0</td>\n",
       "      <td>124.0</td>\n",
       "      <td>2.0</td>\n",
       "      <td>1</td>\n",
       "      <td>66.0</td>\n",
       "      <td>2.0</td>\n",
       "      <td>1</td>\n",
       "      <td>0</td>\n",
       "      <td>0</td>\n",
       "      <td>0</td>\n",
       "      <td>0</td>\n",
       "      <td>1</td>\n",
       "      <td>0</td>\n",
       "      <td>0</td>\n",
       "      <td>0</td>\n",
       "      <td>0</td>\n",
       "      <td>1</td>\n",
       "      <td>0</td>\n",
       "      <td>1</td>\n",
       "      <td>0</td>\n",
       "    </tr>\n",
       "    <tr>\n",
       "      <th>1</th>\n",
       "      <td>261.0</td>\n",
       "      <td>169.0</td>\n",
       "      <td>2.0</td>\n",
       "      <td>1</td>\n",
       "      <td>92.0</td>\n",
       "      <td>2.0</td>\n",
       "      <td>1</td>\n",
       "      <td>1</td>\n",
       "      <td>0</td>\n",
       "      <td>0</td>\n",
       "      <td>0</td>\n",
       "      <td>0</td>\n",
       "      <td>0</td>\n",
       "      <td>1</td>\n",
       "      <td>0</td>\n",
       "      <td>0</td>\n",
       "      <td>0</td>\n",
       "      <td>1</td>\n",
       "      <td>0</td>\n",
       "      <td>0</td>\n",
       "    </tr>\n",
       "    <tr>\n",
       "      <th>2</th>\n",
       "      <td>148.0</td>\n",
       "      <td>179.0</td>\n",
       "      <td>1.0</td>\n",
       "      <td>1</td>\n",
       "      <td>93.0</td>\n",
       "      <td>1.0</td>\n",
       "      <td>2</td>\n",
       "      <td>0</td>\n",
       "      <td>0</td>\n",
       "      <td>1</td>\n",
       "      <td>0</td>\n",
       "      <td>0</td>\n",
       "      <td>0</td>\n",
       "      <td>0</td>\n",
       "      <td>0</td>\n",
       "      <td>0</td>\n",
       "      <td>0</td>\n",
       "      <td>0</td>\n",
       "      <td>1</td>\n",
       "      <td>0</td>\n",
       "    </tr>\n",
       "    <tr>\n",
       "      <th>3</th>\n",
       "      <td>247.0</td>\n",
       "      <td>141.0</td>\n",
       "      <td>2.0</td>\n",
       "      <td>0</td>\n",
       "      <td>89.0</td>\n",
       "      <td>2.0</td>\n",
       "      <td>0</td>\n",
       "      <td>0</td>\n",
       "      <td>0</td>\n",
       "      <td>0</td>\n",
       "      <td>1</td>\n",
       "      <td>0</td>\n",
       "      <td>0</td>\n",
       "      <td>0</td>\n",
       "      <td>0</td>\n",
       "      <td>0</td>\n",
       "      <td>1</td>\n",
       "      <td>0</td>\n",
       "      <td>1</td>\n",
       "      <td>0</td>\n",
       "    </tr>\n",
       "    <tr>\n",
       "      <th>4</th>\n",
       "      <td>163.0</td>\n",
       "      <td>126.0</td>\n",
       "      <td>1.0</td>\n",
       "      <td>1</td>\n",
       "      <td>64.0</td>\n",
       "      <td>2.0</td>\n",
       "      <td>1</td>\n",
       "      <td>0</td>\n",
       "      <td>1</td>\n",
       "      <td>0</td>\n",
       "      <td>0</td>\n",
       "      <td>0</td>\n",
       "      <td>0</td>\n",
       "      <td>0</td>\n",
       "      <td>1</td>\n",
       "      <td>0</td>\n",
       "      <td>0</td>\n",
       "      <td>0</td>\n",
       "      <td>1</td>\n",
       "      <td>0</td>\n",
       "    </tr>\n",
       "  </tbody>\n",
       "</table>\n",
       "</div>"
      ],
      "text/plain": [
       "   Host_Death_Time  Level  Phase  Waterflow_Death  Health_Pct  Phantom_Count  \\\n",
       "0            299.0  124.0    2.0                1        66.0            2.0   \n",
       "1            261.0  169.0    2.0                1        92.0            2.0   \n",
       "2            148.0  179.0    1.0                1        93.0            1.0   \n",
       "3            247.0  141.0    2.0                0        89.0            2.0   \n",
       "4            163.0  126.0    1.0                1        64.0            2.0   \n",
       "\n",
       "   Phantom_Death  Host_Build_HYBRID  Host_Build_PROC_CAST  \\\n",
       "0              1                  0                     0   \n",
       "1              1                  1                     0   \n",
       "2              2                  0                     0   \n",
       "3              0                  0                     0   \n",
       "4              1                  0                     1   \n",
       "\n",
       "   Host_Build_PROC_MELEE  Host_Build_RAW_CAST  Host_Build_RAW_MELEE  \\\n",
       "0                      0                    0                     1   \n",
       "1                      0                    0                     0   \n",
       "2                      1                    0                     0   \n",
       "3                      0                    1                     0   \n",
       "4                      0                    0                     0   \n",
       "\n",
       "   Phantom_Build_HYBRID  Phantom_Build_PROC_CAST  Phantom_Build_PROC_MELEE  \\\n",
       "0                     0                        0                         0   \n",
       "1                     0                        1                         0   \n",
       "2                     0                        0                         0   \n",
       "3                     0                        0                         0   \n",
       "4                     0                        0                         1   \n",
       "\n",
       "   Phantom_Build_RAW_CAST  Phantom_Build_RAW_MELEE  Location_CENTER  \\\n",
       "0                       0                        1                0   \n",
       "1                       0                        0                1   \n",
       "2                       0                        0                0   \n",
       "3                       0                        1                0   \n",
       "4                       0                        0                0   \n",
       "\n",
       "   Location_INNER  Location_OUTER  \n",
       "0               1               0  \n",
       "1               0               0  \n",
       "2               1               0  \n",
       "3               1               0  \n",
       "4               1               0  "
      ]
     },
     "execution_count": 263,
     "metadata": {},
     "output_type": "execute_result"
    }
   ],
   "source": [
    "df = pd.get_dummies(df,columns=[\"Location\"])\n",
    "df.head()"
   ]
  },
  {
   "cell_type": "markdown",
   "id": "1597036a",
   "metadata": {},
   "source": [
    "\n",
    "# 모델링"
   ]
  },
  {
   "cell_type": "code",
   "execution_count": null,
   "id": "69e4af60",
   "metadata": {},
   "outputs": [],
   "source": [
    "df = df.drop('Health_Pct',axis=1)"
   ]
  },
  {
   "cell_type": "code",
   "execution_count": 85,
   "id": "75aed9a1",
   "metadata": {},
   "outputs": [
    {
     "data": {
      "text/html": [
       "<div>\n",
       "<style scoped>\n",
       "    .dataframe tbody tr th:only-of-type {\n",
       "        vertical-align: middle;\n",
       "    }\n",
       "\n",
       "    .dataframe tbody tr th {\n",
       "        vertical-align: top;\n",
       "    }\n",
       "\n",
       "    .dataframe thead th {\n",
       "        text-align: right;\n",
       "    }\n",
       "</style>\n",
       "<table border=\"1\" class=\"dataframe\">\n",
       "  <thead>\n",
       "    <tr style=\"text-align: right;\">\n",
       "      <th></th>\n",
       "      <th>Host_Death_Time</th>\n",
       "      <th>Level</th>\n",
       "      <th>Phase</th>\n",
       "      <th>Waterflow_Death</th>\n",
       "      <th>Phantom_Count</th>\n",
       "      <th>Phantom_Death</th>\n",
       "      <th>Host_Build_HYBRID</th>\n",
       "      <th>Host_Build_PROC_CAST</th>\n",
       "      <th>Host_Build_PROC_MELEE</th>\n",
       "      <th>Host_Build_RAW_CAST</th>\n",
       "      <th>Host_Build_RAW_MELEE</th>\n",
       "      <th>Phantom_Build_HYBRID</th>\n",
       "      <th>Phantom_Build_PROC_CAST</th>\n",
       "      <th>Phantom_Build_PROC_MELEE</th>\n",
       "      <th>Phantom_Build_RAW_CAST</th>\n",
       "      <th>Phantom_Build_RAW_MELEE</th>\n",
       "      <th>Location_CENTER</th>\n",
       "      <th>Location_INNER</th>\n",
       "      <th>Location_OUTER</th>\n",
       "    </tr>\n",
       "  </thead>\n",
       "  <tbody>\n",
       "    <tr>\n",
       "      <th>0</th>\n",
       "      <td>299.0</td>\n",
       "      <td>124.0</td>\n",
       "      <td>2.0</td>\n",
       "      <td>1</td>\n",
       "      <td>2.0</td>\n",
       "      <td>1</td>\n",
       "      <td>0</td>\n",
       "      <td>0</td>\n",
       "      <td>0</td>\n",
       "      <td>0</td>\n",
       "      <td>1</td>\n",
       "      <td>0</td>\n",
       "      <td>0</td>\n",
       "      <td>0</td>\n",
       "      <td>0</td>\n",
       "      <td>1</td>\n",
       "      <td>0</td>\n",
       "      <td>1</td>\n",
       "      <td>0</td>\n",
       "    </tr>\n",
       "    <tr>\n",
       "      <th>1</th>\n",
       "      <td>261.0</td>\n",
       "      <td>169.0</td>\n",
       "      <td>2.0</td>\n",
       "      <td>1</td>\n",
       "      <td>2.0</td>\n",
       "      <td>1</td>\n",
       "      <td>1</td>\n",
       "      <td>0</td>\n",
       "      <td>0</td>\n",
       "      <td>0</td>\n",
       "      <td>0</td>\n",
       "      <td>0</td>\n",
       "      <td>1</td>\n",
       "      <td>0</td>\n",
       "      <td>0</td>\n",
       "      <td>0</td>\n",
       "      <td>1</td>\n",
       "      <td>0</td>\n",
       "      <td>0</td>\n",
       "    </tr>\n",
       "    <tr>\n",
       "      <th>2</th>\n",
       "      <td>148.0</td>\n",
       "      <td>179.0</td>\n",
       "      <td>1.0</td>\n",
       "      <td>1</td>\n",
       "      <td>0.0</td>\n",
       "      <td>2</td>\n",
       "      <td>0</td>\n",
       "      <td>0</td>\n",
       "      <td>1</td>\n",
       "      <td>0</td>\n",
       "      <td>0</td>\n",
       "      <td>0</td>\n",
       "      <td>0</td>\n",
       "      <td>0</td>\n",
       "      <td>0</td>\n",
       "      <td>0</td>\n",
       "      <td>0</td>\n",
       "      <td>1</td>\n",
       "      <td>0</td>\n",
       "    </tr>\n",
       "    <tr>\n",
       "      <th>3</th>\n",
       "      <td>247.0</td>\n",
       "      <td>141.0</td>\n",
       "      <td>2.0</td>\n",
       "      <td>0</td>\n",
       "      <td>2.0</td>\n",
       "      <td>0</td>\n",
       "      <td>0</td>\n",
       "      <td>0</td>\n",
       "      <td>0</td>\n",
       "      <td>1</td>\n",
       "      <td>0</td>\n",
       "      <td>0</td>\n",
       "      <td>0</td>\n",
       "      <td>0</td>\n",
       "      <td>0</td>\n",
       "      <td>1</td>\n",
       "      <td>0</td>\n",
       "      <td>1</td>\n",
       "      <td>0</td>\n",
       "    </tr>\n",
       "    <tr>\n",
       "      <th>4</th>\n",
       "      <td>163.0</td>\n",
       "      <td>126.0</td>\n",
       "      <td>1.0</td>\n",
       "      <td>1</td>\n",
       "      <td>2.0</td>\n",
       "      <td>1</td>\n",
       "      <td>0</td>\n",
       "      <td>1</td>\n",
       "      <td>0</td>\n",
       "      <td>0</td>\n",
       "      <td>0</td>\n",
       "      <td>0</td>\n",
       "      <td>0</td>\n",
       "      <td>1</td>\n",
       "      <td>0</td>\n",
       "      <td>0</td>\n",
       "      <td>0</td>\n",
       "      <td>1</td>\n",
       "      <td>0</td>\n",
       "    </tr>\n",
       "    <tr>\n",
       "      <th>...</th>\n",
       "      <td>...</td>\n",
       "      <td>...</td>\n",
       "      <td>...</td>\n",
       "      <td>...</td>\n",
       "      <td>...</td>\n",
       "      <td>...</td>\n",
       "      <td>...</td>\n",
       "      <td>...</td>\n",
       "      <td>...</td>\n",
       "      <td>...</td>\n",
       "      <td>...</td>\n",
       "      <td>...</td>\n",
       "      <td>...</td>\n",
       "      <td>...</td>\n",
       "      <td>...</td>\n",
       "      <td>...</td>\n",
       "      <td>...</td>\n",
       "      <td>...</td>\n",
       "      <td>...</td>\n",
       "    </tr>\n",
       "    <tr>\n",
       "      <th>3616</th>\n",
       "      <td>204.0</td>\n",
       "      <td>171.0</td>\n",
       "      <td>2.0</td>\n",
       "      <td>0</td>\n",
       "      <td>0.0</td>\n",
       "      <td>2</td>\n",
       "      <td>0</td>\n",
       "      <td>0</td>\n",
       "      <td>0</td>\n",
       "      <td>1</td>\n",
       "      <td>0</td>\n",
       "      <td>0</td>\n",
       "      <td>0</td>\n",
       "      <td>0</td>\n",
       "      <td>0</td>\n",
       "      <td>0</td>\n",
       "      <td>0</td>\n",
       "      <td>0</td>\n",
       "      <td>1</td>\n",
       "    </tr>\n",
       "    <tr>\n",
       "      <th>3617</th>\n",
       "      <td>259.0</td>\n",
       "      <td>160.0</td>\n",
       "      <td>2.0</td>\n",
       "      <td>0</td>\n",
       "      <td>0.0</td>\n",
       "      <td>2</td>\n",
       "      <td>1</td>\n",
       "      <td>0</td>\n",
       "      <td>0</td>\n",
       "      <td>0</td>\n",
       "      <td>0</td>\n",
       "      <td>0</td>\n",
       "      <td>0</td>\n",
       "      <td>0</td>\n",
       "      <td>0</td>\n",
       "      <td>0</td>\n",
       "      <td>0</td>\n",
       "      <td>1</td>\n",
       "      <td>0</td>\n",
       "    </tr>\n",
       "    <tr>\n",
       "      <th>3618</th>\n",
       "      <td>288.0</td>\n",
       "      <td>173.0</td>\n",
       "      <td>2.0</td>\n",
       "      <td>0</td>\n",
       "      <td>2.0</td>\n",
       "      <td>1</td>\n",
       "      <td>0</td>\n",
       "      <td>1</td>\n",
       "      <td>0</td>\n",
       "      <td>0</td>\n",
       "      <td>0</td>\n",
       "      <td>1</td>\n",
       "      <td>0</td>\n",
       "      <td>0</td>\n",
       "      <td>0</td>\n",
       "      <td>0</td>\n",
       "      <td>0</td>\n",
       "      <td>1</td>\n",
       "      <td>0</td>\n",
       "    </tr>\n",
       "    <tr>\n",
       "      <th>3619</th>\n",
       "      <td>58.0</td>\n",
       "      <td>139.0</td>\n",
       "      <td>2.0</td>\n",
       "      <td>0</td>\n",
       "      <td>0.0</td>\n",
       "      <td>2</td>\n",
       "      <td>0</td>\n",
       "      <td>1</td>\n",
       "      <td>0</td>\n",
       "      <td>0</td>\n",
       "      <td>0</td>\n",
       "      <td>0</td>\n",
       "      <td>0</td>\n",
       "      <td>0</td>\n",
       "      <td>0</td>\n",
       "      <td>0</td>\n",
       "      <td>1</td>\n",
       "      <td>0</td>\n",
       "      <td>0</td>\n",
       "    </tr>\n",
       "    <tr>\n",
       "      <th>3620</th>\n",
       "      <td>270.0</td>\n",
       "      <td>128.0</td>\n",
       "      <td>1.0</td>\n",
       "      <td>1</td>\n",
       "      <td>2.0</td>\n",
       "      <td>0</td>\n",
       "      <td>1</td>\n",
       "      <td>0</td>\n",
       "      <td>0</td>\n",
       "      <td>0</td>\n",
       "      <td>0</td>\n",
       "      <td>0</td>\n",
       "      <td>1</td>\n",
       "      <td>0</td>\n",
       "      <td>0</td>\n",
       "      <td>0</td>\n",
       "      <td>0</td>\n",
       "      <td>1</td>\n",
       "      <td>0</td>\n",
       "    </tr>\n",
       "  </tbody>\n",
       "</table>\n",
       "<p>3621 rows × 19 columns</p>\n",
       "</div>"
      ],
      "text/plain": [
       "      Host_Death_Time  Level  Phase  Waterflow_Death  Phantom_Count  \\\n",
       "0               299.0  124.0    2.0                1            2.0   \n",
       "1               261.0  169.0    2.0                1            2.0   \n",
       "2               148.0  179.0    1.0                1            0.0   \n",
       "3               247.0  141.0    2.0                0            2.0   \n",
       "4               163.0  126.0    1.0                1            2.0   \n",
       "...               ...    ...    ...              ...            ...   \n",
       "3616            204.0  171.0    2.0                0            0.0   \n",
       "3617            259.0  160.0    2.0                0            0.0   \n",
       "3618            288.0  173.0    2.0                0            2.0   \n",
       "3619             58.0  139.0    2.0                0            0.0   \n",
       "3620            270.0  128.0    1.0                1            2.0   \n",
       "\n",
       "      Phantom_Death  Host_Build_HYBRID  Host_Build_PROC_CAST  \\\n",
       "0                 1                  0                     0   \n",
       "1                 1                  1                     0   \n",
       "2                 2                  0                     0   \n",
       "3                 0                  0                     0   \n",
       "4                 1                  0                     1   \n",
       "...             ...                ...                   ...   \n",
       "3616              2                  0                     0   \n",
       "3617              2                  1                     0   \n",
       "3618              1                  0                     1   \n",
       "3619              2                  0                     1   \n",
       "3620              0                  1                     0   \n",
       "\n",
       "      Host_Build_PROC_MELEE  Host_Build_RAW_CAST  Host_Build_RAW_MELEE  \\\n",
       "0                         0                    0                     1   \n",
       "1                         0                    0                     0   \n",
       "2                         1                    0                     0   \n",
       "3                         0                    1                     0   \n",
       "4                         0                    0                     0   \n",
       "...                     ...                  ...                   ...   \n",
       "3616                      0                    1                     0   \n",
       "3617                      0                    0                     0   \n",
       "3618                      0                    0                     0   \n",
       "3619                      0                    0                     0   \n",
       "3620                      0                    0                     0   \n",
       "\n",
       "      Phantom_Build_HYBRID  Phantom_Build_PROC_CAST  Phantom_Build_PROC_MELEE  \\\n",
       "0                        0                        0                         0   \n",
       "1                        0                        1                         0   \n",
       "2                        0                        0                         0   \n",
       "3                        0                        0                         0   \n",
       "4                        0                        0                         1   \n",
       "...                    ...                      ...                       ...   \n",
       "3616                     0                        0                         0   \n",
       "3617                     0                        0                         0   \n",
       "3618                     1                        0                         0   \n",
       "3619                     0                        0                         0   \n",
       "3620                     0                        1                         0   \n",
       "\n",
       "      Phantom_Build_RAW_CAST  Phantom_Build_RAW_MELEE  Location_CENTER  \\\n",
       "0                          0                        1                0   \n",
       "1                          0                        0                1   \n",
       "2                          0                        0                0   \n",
       "3                          0                        1                0   \n",
       "4                          0                        0                0   \n",
       "...                      ...                      ...              ...   \n",
       "3616                       0                        0                0   \n",
       "3617                       0                        0                0   \n",
       "3618                       0                        0                0   \n",
       "3619                       0                        0                1   \n",
       "3620                       0                        0                0   \n",
       "\n",
       "      Location_INNER  Location_OUTER  \n",
       "0                  1               0  \n",
       "1                  0               0  \n",
       "2                  1               0  \n",
       "3                  1               0  \n",
       "4                  1               0  \n",
       "...              ...             ...  \n",
       "3616               0               1  \n",
       "3617               1               0  \n",
       "3618               1               0  \n",
       "3619               0               0  \n",
       "3620               1               0  \n",
       "\n",
       "[3621 rows x 19 columns]"
      ]
     },
     "execution_count": 85,
     "metadata": {},
     "output_type": "execute_result"
    }
   ],
   "source": [
    "df"
   ]
  },
  {
   "cell_type": "code",
   "execution_count": 86,
   "id": "25b91356",
   "metadata": {
    "scrolled": true
   },
   "outputs": [],
   "source": [
    "x = df.drop(\"Phase\",axis=1)\n",
    "y = df.loc[:,'Phase']"
   ]
  },
  {
   "cell_type": "code",
   "execution_count": 87,
   "id": "ba11c9bd",
   "metadata": {},
   "outputs": [],
   "source": [
    "from sklearn.model_selection import train_test_split\n",
    "\n",
    "x_tr, x_te, y_tr, y_te = train_test_split(x,y)"
   ]
  },
  {
   "cell_type": "code",
   "execution_count": 88,
   "id": "45c7855c",
   "metadata": {
    "scrolled": true
   },
   "outputs": [
    {
     "data": {
      "text/plain": [
       "(0.63646408839779, 0.4624724061810154)"
      ]
     },
     "execution_count": 88,
     "metadata": {},
     "output_type": "execute_result"
    }
   ],
   "source": [
    "from sklearn.neighbors import KNeighborsClassifier\n",
    "\n",
    "model = KNeighborsClassifier(n_neighbors=9).fit(x_tr,y_tr)\n",
    "model.score(x_tr,y_tr), model.score(x_te,y_te)"
   ]
  },
  {
   "cell_type": "code",
   "execution_count": 89,
   "id": "97819442",
   "metadata": {},
   "outputs": [
    {
     "data": {
      "text/plain": [
       "(0.20161879034087382, -0.2590288195815247)"
      ]
     },
     "execution_count": 89,
     "metadata": {},
     "output_type": "execute_result"
    }
   ],
   "source": [
    "from sklearn.neighbors import KNeighborsRegressor\n",
    "\n",
    "model = KNeighborsRegressor().fit(x_tr,y_tr)\n",
    "model.score(x_tr,y_tr), model.score(x_te,y_te)"
   ]
  },
  {
   "cell_type": "code",
   "execution_count": 90,
   "id": "5617d055",
   "metadata": {},
   "outputs": [
    {
     "data": {
      "text/plain": [
       "(0.007328086313185933, -0.02394837665369942)"
      ]
     },
     "execution_count": 90,
     "metadata": {},
     "output_type": "execute_result"
    }
   ],
   "source": [
    "from sklearn.linear_model import LinearRegression\n",
    "\n",
    "model = LinearRegression().fit(x_tr,y_tr)\n",
    "model.score(x_tr,y_tr), model.score(x_te,y_te)"
   ]
  },
  {
   "cell_type": "code",
   "execution_count": 40,
   "id": "bab055f6",
   "metadata": {},
   "outputs": [],
   "source": [
    "from sklearn.preprocessing import PolynomialFeatures\n",
    "\n",
    "P = PolynomialFeatures(degree=2)\n",
    "x_poly = P.fit_transform(x)\n",
    "x_tr, x_te, y_tr, y_te = train_test_split(x_poly,y)"
   ]
  },
  {
   "cell_type": "code",
   "execution_count": 41,
   "id": "19f50bca",
   "metadata": {},
   "outputs": [
    {
     "data": {
      "text/plain": [
       "(0.049080678184412085, -0.0636138144022318)"
      ]
     },
     "execution_count": 41,
     "metadata": {},
     "output_type": "execute_result"
    }
   ],
   "source": [
    "from sklearn.linear_model import LinearRegression\n",
    "\n",
    "model = LinearRegression().fit(x_tr,y_tr)\n",
    "model.score(x_tr,y_tr), model.score(x_te,y_te)"
   ]
  },
  {
   "cell_type": "code",
   "execution_count": 110,
   "id": "eeee10b3",
   "metadata": {},
   "outputs": [],
   "source": [
    "from sklearn.preprocessing import MinMaxScaler\n",
    "\n",
    "x_scaled = MinMaxScaler().fit_transform(x)\n",
    "x_tr, x_te, y_tr, y_te = train_test_split(x_scaled,y)"
   ]
  },
  {
   "cell_type": "code",
   "execution_count": 91,
   "id": "b4bba0d6",
   "metadata": {},
   "outputs": [
    {
     "data": {
      "text/plain": [
       "(0.0, -0.0003805719933207552)"
      ]
     },
     "execution_count": 91,
     "metadata": {},
     "output_type": "execute_result"
    }
   ],
   "source": [
    "from sklearn.linear_model import Lasso\n",
    "\n",
    "model = Lasso().fit(x_tr,y_tr)\n",
    "model.score(x_tr,y_tr), model.score(x_te,y_te)"
   ]
  },
  {
   "cell_type": "code",
   "execution_count": 92,
   "id": "680d2ec3",
   "metadata": {},
   "outputs": [
    {
     "data": {
      "text/plain": [
       "(0.007328060960214433, -0.023901320114313673)"
      ]
     },
     "execution_count": 92,
     "metadata": {},
     "output_type": "execute_result"
    }
   ],
   "source": [
    "from sklearn.linear_model import Ridge\n",
    "\n",
    "model = Ridge().fit(x_tr,y_tr)\n",
    "model.score(x_tr,y_tr), model.score(x_te,y_te)"
   ]
  },
  {
   "cell_type": "code",
   "execution_count": 93,
   "id": "2dbbad5c",
   "metadata": {},
   "outputs": [
    {
     "data": {
      "text/plain": [
       "(0.5406998158379374, 0.4746136865342163)"
      ]
     },
     "execution_count": 93,
     "metadata": {},
     "output_type": "execute_result"
    }
   ],
   "source": [
    "from sklearn.linear_model import LogisticRegression\n",
    "\n",
    "model = LogisticRegression(max_iter=1000).fit(x_tr,y_tr)\n",
    "model.score(x_tr,y_tr), model.score(x_te,y_te)"
   ]
  },
  {
   "cell_type": "code",
   "execution_count": 94,
   "id": "24cbfb99",
   "metadata": {},
   "outputs": [
    {
     "data": {
      "text/plain": [
       "(0.5683241252302026, 0.46357615894039733)"
      ]
     },
     "execution_count": 94,
     "metadata": {},
     "output_type": "execute_result"
    }
   ],
   "source": [
    "from sklearn.tree import DecisionTreeClassifier\n",
    "\n",
    "model = DecisionTreeClassifier(max_depth=20,max_leaf_nodes=20).fit(x_tr,y_tr)\n",
    "model.score(x_tr,y_tr), model.score(x_te,y_te)"
   ]
  },
  {
   "cell_type": "code",
   "execution_count": 95,
   "id": "0e7fd487",
   "metadata": {},
   "outputs": [
    {
     "data": {
      "text/plain": [
       "(0.30713230711946615, -0.37386212759037596)"
      ]
     },
     "execution_count": 95,
     "metadata": {},
     "output_type": "execute_result"
    }
   ],
   "source": [
    "from sklearn.tree import DecisionTreeRegressor\n",
    "\n",
    "model = DecisionTreeRegressor(max_depth=10).fit(x_tr,y_tr)\n",
    "model.score(x_tr,y_tr), model.score(x_te,y_te)"
   ]
  },
  {
   "cell_type": "code",
   "execution_count": 108,
   "id": "d18da609",
   "metadata": {},
   "outputs": [
    {
     "data": {
      "text/plain": [
       "(1.0, 0.5143487858719646)"
      ]
     },
     "execution_count": 108,
     "metadata": {},
     "output_type": "execute_result"
    }
   ],
   "source": [
    "from sklearn.ensemble import RandomForestClassifier\n",
    "model = RandomForestClassifier().fit(x_tr,y_tr)\n",
    "model.score(x_tr,y_tr), model.score(x_te,y_te)"
   ]
  },
  {
   "cell_type": "code",
   "execution_count": 97,
   "id": "f73005ea",
   "metadata": {
    "scrolled": true
   },
   "outputs": [
    {
     "data": {
      "text/plain": [
       "(0.6567219152854512, 0.46909492273730685)"
      ]
     },
     "execution_count": 97,
     "metadata": {},
     "output_type": "execute_result"
    }
   ],
   "source": [
    "from sklearn.ensemble import GradientBoostingClassifier\n",
    "\n",
    "model = GradientBoostingClassifier().fit(x_tr,y_tr)\n",
    "model.score(x_tr,y_tr), model.score(x_te,y_te)"
   ]
  },
  {
   "cell_type": "code",
   "execution_count": 98,
   "id": "94b3cef5",
   "metadata": {
    "scrolled": true
   },
   "outputs": [
    {
     "name": "stdout",
     "output_type": "stream",
     "text": [
      "[16:18:51] WARNING: /Users/runner/work/xgboost/xgboost/python-package/build/temp.macosx-11.0-arm64-3.8/xgboost/src/objective/regression_obj.cu:203: reg:linear is now deprecated in favor of reg:squarederror.\n"
     ]
    },
    {
     "data": {
      "text/plain": [
       "(0.8184738907655768, -0.2563884891431043)"
      ]
     },
     "execution_count": 98,
     "metadata": {},
     "output_type": "execute_result"
    }
   ],
   "source": [
    "import xgboost as xgb \n",
    "\n",
    "model = xgb.XGBRegressor(objective='reg:linear').fit(x_tr,y_tr)\n",
    "model.score(x_tr,y_tr), model.score(x_te,y_te)"
   ]
  },
  {
   "cell_type": "markdown",
   "id": "8c282e65",
   "metadata": {},
   "source": [
    "## 모델들 결과 비교 "
   ]
  },
  {
   "cell_type": "code",
   "execution_count": 264,
   "id": "730738e9",
   "metadata": {
    "scrolled": true
   },
   "outputs": [
    {
     "name": "stdout",
     "output_type": "stream",
     "text": [
      "<class 'sklearn.neighbors._classification.KNeighborsClassifier'>\n",
      "트레인 스코어 :  68.36  %\n",
      "테스트 스코어 :  52.21  %\n",
      "\n",
      "<class 'sklearn.neighbors._regression.KNeighborsRegressor'>\n",
      "트레인 스코어 :  19.48  %\n",
      "테스트 스코어 :  -17.96  %\n",
      "\n",
      "<class 'sklearn.linear_model._base.LinearRegression'>\n",
      "트레인 스코어 :  0.21  %\n",
      "테스트 스코어 :  -0.37  %\n",
      "\n",
      "<class 'sklearn.linear_model._coordinate_descent.Lasso'>\n",
      "트레인 스코어 :  0.0  %\n",
      "테스트 스코어 :  -0.0  %\n",
      "\n",
      "<class 'sklearn.linear_model._ridge.Ridge'>\n",
      "트레인 스코어 :  0.36  %\n",
      "테스트 스코어 :  -0.18  %\n",
      "\n",
      "<class 'sklearn.linear_model._logistic.LogisticRegression'>\n",
      "트레인 스코어 :  53.37  %\n",
      "테스트 스코어 :  50.55  %\n",
      "\n",
      "<class 'sklearn.tree._classes.DecisionTreeClassifier'>\n",
      "트레인 스코어 :  100.0  %\n",
      "테스트 스코어 :  48.339999999999996  %\n",
      "\n",
      "<class 'sklearn.tree._classes.DecisionTreeRegressor'>\n",
      "트레인 스코어 :  100.0  %\n",
      "테스트 스코어 :  -104.86999999999999  %\n",
      "\n",
      "<class 'sklearn.ensemble._forest.RandomForestClassifier'>\n",
      "트레인 스코어 :  100.0  %\n",
      "테스트 스코어 :  49.01  %\n",
      "\n"
     ]
    }
   ],
   "source": [
    "mods = [KNeighborsClassifier,KNeighborsRegressor,LinearRegression,Lasso,Ridge,LogisticRegression,DecisionTreeClassifier,DecisionTreeRegressor,RandomForestClassifier]\n",
    "\n",
    "for mod in mods :\n",
    "    print(mod)\n",
    "    \n",
    "    model = mod().fit(x_tr,y_tr)\n",
    "    print(\"트레인 스코어 : \", round(model.score(x_tr,y_tr),4)*100,\" %\")\n",
    "    print(\"테스트 스코어 : \", round(model.score(x_te,y_te),4)*100,\" %\")\n",
    "    print()\n",
    "    \n",
    "    "
   ]
  },
  {
   "cell_type": "code",
   "execution_count": 112,
   "id": "81469119",
   "metadata": {},
   "outputs": [
    {
     "name": "stdout",
     "output_type": "stream",
     "text": [
      "<class 'sklearn.ensemble._forest.RandomForestClassifier'>\n",
      "트레인 스코어 :  100.0  %\n",
      "테스트 스코어 :  48.79  %\n",
      "\n"
     ]
    }
   ],
   "source": [
    "print(RandomForestClassifier)\n",
    "model = RandomForestClassifier().fit(x_tr,y_tr)\n",
    "print(\"트레인 스코어 : \", round(model.score(x_tr,y_tr),4)*100,\" %\")\n",
    "print(\"테스트 스코어 : \", round(model.score(x_te,y_te),4)*100,\" %\")\n",
    "print()"
   ]
  },
  {
   "cell_type": "markdown",
   "id": "896c897e",
   "metadata": {},
   "source": [
    "## Grid Search "
   ]
  },
  {
   "cell_type": "code",
   "execution_count": 154,
   "id": "683577e7",
   "metadata": {},
   "outputs": [],
   "source": [
    "from sklearn.model_selection import GridSearchCV"
   ]
  },
  {
   "cell_type": "markdown",
   "id": "b147532d",
   "metadata": {},
   "source": [
    "## KNeighborsClassifier 결과"
   ]
  },
  {
   "cell_type": "code",
   "execution_count": 135,
   "id": "5f0e7c45",
   "metadata": {},
   "outputs": [],
   "source": [
    "model = KNeighborsClassifier()\n",
    "\n",
    "params = {'n_neighbors':range(1,40),\n",
    "          'weights':['uniform', 'distance'],\n",
    "          'leaf_size' : range(1,10)\n",
    "             }\n",
    "\n",
    "gs = GridSearchCV(model,params).fit(x_tr,y_tr)"
   ]
  },
  {
   "cell_type": "code",
   "execution_count": 136,
   "id": "6a3ee640",
   "metadata": {},
   "outputs": [
    {
     "data": {
      "text/plain": [
       "0.5241252302025783"
      ]
     },
     "execution_count": 136,
     "metadata": {},
     "output_type": "execute_result"
    }
   ],
   "source": [
    "gs.best_score_"
   ]
  },
  {
   "cell_type": "code",
   "execution_count": 137,
   "id": "96bc8c4e",
   "metadata": {},
   "outputs": [
    {
     "data": {
      "text/plain": [
       "{'leaf_size': 1, 'n_neighbors': 36, 'weights': 'uniform'}"
      ]
     },
     "execution_count": 137,
     "metadata": {},
     "output_type": "execute_result"
    }
   ],
   "source": [
    "gs.best_params_"
   ]
  },
  {
   "cell_type": "markdown",
   "id": "54af1658",
   "metadata": {},
   "source": [
    "## LogisticRegression 결과 "
   ]
  },
  {
   "cell_type": "code",
   "execution_count": 138,
   "id": "2c3c3f1d",
   "metadata": {},
   "outputs": [
    {
     "name": "stderr",
     "output_type": "stream",
     "text": [
      "/Users/hong/Library/Python/3.8/lib/python/site-packages/sklearn/model_selection/_validation.py:372: FitFailedWarning: \n",
      "9500 fits failed out of a total of 19000.\n",
      "The score on these train-test partitions for these parameters will be set to nan.\n",
      "If these failures are not expected, you can try to debug them by setting error_score='raise'.\n",
      "\n",
      "Below are more details about the failures:\n",
      "--------------------------------------------------------------------------------\n",
      "4750 fits failed with the following error:\n",
      "Traceback (most recent call last):\n",
      "  File \"/Users/hong/Library/Python/3.8/lib/python/site-packages/sklearn/model_selection/_validation.py\", line 680, in _fit_and_score\n",
      "    estimator.fit(X_train, y_train, **fit_params)\n",
      "  File \"/Users/hong/Library/Python/3.8/lib/python/site-packages/sklearn/linear_model/_logistic.py\", line 1461, in fit\n",
      "    solver = _check_solver(self.solver, self.penalty, self.dual)\n",
      "  File \"/Users/hong/Library/Python/3.8/lib/python/site-packages/sklearn/linear_model/_logistic.py\", line 447, in _check_solver\n",
      "    raise ValueError(\n",
      "ValueError: Solver lbfgs supports only 'l2' or 'none' penalties, got l1 penalty.\n",
      "\n",
      "--------------------------------------------------------------------------------\n",
      "4750 fits failed with the following error:\n",
      "Traceback (most recent call last):\n",
      "  File \"/Users/hong/Library/Python/3.8/lib/python/site-packages/sklearn/model_selection/_validation.py\", line 680, in _fit_and_score\n",
      "    estimator.fit(X_train, y_train, **fit_params)\n",
      "  File \"/Users/hong/Library/Python/3.8/lib/python/site-packages/sklearn/linear_model/_logistic.py\", line 1461, in fit\n",
      "    solver = _check_solver(self.solver, self.penalty, self.dual)\n",
      "  File \"/Users/hong/Library/Python/3.8/lib/python/site-packages/sklearn/linear_model/_logistic.py\", line 447, in _check_solver\n",
      "    raise ValueError(\n",
      "ValueError: Solver lbfgs supports only 'l2' or 'none' penalties, got elasticnet penalty.\n",
      "\n",
      "  warnings.warn(some_fits_failed_message, FitFailedWarning)\n",
      "/Users/hong/Library/Python/3.8/lib/python/site-packages/sklearn/model_selection/_search.py:969: UserWarning: One or more of the test scores are non-finite: [       nan 0.50460405        nan ... 0.50460405        nan 0.5053407 ]\n",
      "  warnings.warn(\n"
     ]
    }
   ],
   "source": [
    "model = LogisticRegression()\n",
    "\n",
    "params = {'penalty':['l1', 'l2', 'elasticnet', 'none'],\n",
    "                  'max_iter':range(50,1000)\n",
    "                  \n",
    "             }\n",
    "\n",
    "gs = GridSearchCV(model,params).fit(x_tr,y_tr)"
   ]
  },
  {
   "cell_type": "code",
   "execution_count": 139,
   "id": "8147405a",
   "metadata": {},
   "outputs": [
    {
     "data": {
      "text/plain": [
       "0.505340699815838"
      ]
     },
     "execution_count": 139,
     "metadata": {},
     "output_type": "execute_result"
    }
   ],
   "source": [
    "gs.best_score_"
   ]
  },
  {
   "cell_type": "code",
   "execution_count": 140,
   "id": "8a002362",
   "metadata": {
    "scrolled": true
   },
   "outputs": [
    {
     "data": {
      "text/plain": [
       "{'max_iter': 50, 'penalty': 'none'}"
      ]
     },
     "execution_count": 140,
     "metadata": {},
     "output_type": "execute_result"
    }
   ],
   "source": [
    "gs.best_params_"
   ]
  },
  {
   "cell_type": "markdown",
   "id": "5652aa7e",
   "metadata": {},
   "source": [
    "## RandomForestClassifier 결과"
   ]
  },
  {
   "cell_type": "code",
   "execution_count": 151,
   "id": "b31948ce",
   "metadata": {},
   "outputs": [
    {
     "name": "stderr",
     "output_type": "stream",
     "text": [
      "/Users/hong/Library/Python/3.8/lib/python/site-packages/sklearn/model_selection/_validation.py:372: FitFailedWarning: \n",
      "1000 fits failed out of a total of 4000.\n",
      "The score on these train-test partitions for these parameters will be set to nan.\n",
      "If these failures are not expected, you can try to debug them by setting error_score='raise'.\n",
      "\n",
      "Below are more details about the failures:\n",
      "--------------------------------------------------------------------------------\n",
      "1000 fits failed with the following error:\n",
      "Traceback (most recent call last):\n",
      "  File \"/Users/hong/Library/Python/3.8/lib/python/site-packages/sklearn/model_selection/_validation.py\", line 680, in _fit_and_score\n",
      "    estimator.fit(X_train, y_train, **fit_params)\n",
      "  File \"/Users/hong/Library/Python/3.8/lib/python/site-packages/sklearn/ensemble/_forest.py\", line 450, in fit\n",
      "    trees = Parallel(\n",
      "  File \"/Users/hong/Library/Python/3.8/lib/python/site-packages/joblib/parallel.py\", line 1043, in __call__\n",
      "    if self.dispatch_one_batch(iterator):\n",
      "  File \"/Users/hong/Library/Python/3.8/lib/python/site-packages/joblib/parallel.py\", line 861, in dispatch_one_batch\n",
      "    self._dispatch(tasks)\n",
      "  File \"/Users/hong/Library/Python/3.8/lib/python/site-packages/joblib/parallel.py\", line 779, in _dispatch\n",
      "    job = self._backend.apply_async(batch, callback=cb)\n",
      "  File \"/Users/hong/Library/Python/3.8/lib/python/site-packages/joblib/_parallel_backends.py\", line 208, in apply_async\n",
      "    result = ImmediateResult(func)\n",
      "  File \"/Users/hong/Library/Python/3.8/lib/python/site-packages/joblib/_parallel_backends.py\", line 572, in __init__\n",
      "    self.results = batch()\n",
      "  File \"/Users/hong/Library/Python/3.8/lib/python/site-packages/joblib/parallel.py\", line 262, in __call__\n",
      "    return [func(*args, **kwargs)\n",
      "  File \"/Users/hong/Library/Python/3.8/lib/python/site-packages/joblib/parallel.py\", line 262, in <listcomp>\n",
      "    return [func(*args, **kwargs)\n",
      "  File \"/Users/hong/Library/Python/3.8/lib/python/site-packages/sklearn/utils/fixes.py\", line 216, in __call__\n",
      "    return self.function(*args, **kwargs)\n",
      "  File \"/Users/hong/Library/Python/3.8/lib/python/site-packages/sklearn/ensemble/_forest.py\", line 185, in _parallel_build_trees\n",
      "    tree.fit(X, y, sample_weight=curr_sample_weight, check_input=False)\n",
      "  File \"/Users/hong/Library/Python/3.8/lib/python/site-packages/sklearn/tree/_classes.py\", line 937, in fit\n",
      "    super().fit(\n",
      "  File \"/Users/hong/Library/Python/3.8/lib/python/site-packages/sklearn/tree/_classes.py\", line 314, in fit\n",
      "    raise ValueError(\n",
      "ValueError: max_leaf_nodes 1 must be either None or larger than 1\n",
      "\n",
      "  warnings.warn(some_fits_failed_message, FitFailedWarning)\n",
      "/Users/hong/Library/Python/3.8/lib/python/site-packages/sklearn/model_selection/_search.py:969: UserWarning: One or more of the test scores are non-finite: [       nan        nan        nan        nan        nan        nan\n",
      "        nan        nan        nan        nan        nan        nan\n",
      "        nan        nan        nan        nan        nan        nan\n",
      "        nan        nan        nan        nan        nan        nan\n",
      "        nan        nan        nan        nan        nan        nan\n",
      "        nan        nan        nan        nan        nan        nan\n",
      "        nan        nan        nan        nan        nan        nan\n",
      "        nan        nan        nan        nan        nan        nan\n",
      "        nan        nan 0.4825046  0.49760589 0.50239411 0.51012891\n",
      " 0.48987109 0.49576427 0.49060773 0.48581952 0.50128913 0.49281768\n",
      " 0.50313076 0.49871087 0.50423573 0.49723757 0.48581952 0.49208103\n",
      " 0.49392265 0.49907919 0.50092081 0.49834254 0.5053407  0.48950276\n",
      " 0.50423573 0.49723757 0.50276243 0.493186   0.50128913 0.48692449\n",
      " 0.49686924 0.50276243 0.50202578 0.48802947 0.48950276 0.49576427\n",
      " 0.49171271 0.493186   0.48729282 0.50092081 0.49650092 0.49539595\n",
      " 0.49834254 0.49429098 0.48913444 0.48766114 0.50644567 0.5038674\n",
      " 0.49539595 0.50018416 0.48471455 0.49871087 0.49576427 0.49429098\n",
      " 0.48508287 0.50202578 0.50092081 0.51160221 0.50349908 0.51197053\n",
      " 0.49281768 0.49797422 0.493186   0.4946593  0.49502762 0.49723757\n",
      " 0.50460405 0.48876611 0.49355433 0.49171271 0.50092081 0.4854512\n",
      " 0.49281768 0.49797422 0.4961326  0.48729282 0.49171271 0.48360958\n",
      " 0.49797422 0.4961326  0.49208103 0.50239411 0.49797422 0.51049724\n",
      " 0.48876611 0.49429098 0.50202578 0.48913444 0.49871087 0.49686924\n",
      " 0.493186   0.49134438 0.50313076 0.49723757 0.49392265 0.50644567\n",
      " 0.49907919 0.48950276 0.49944751 0.50128913 0.49539595 0.49281768\n",
      " 0.51012891 0.4961326  0.50865562 0.49281768 0.49686924 0.49834254\n",
      " 0.49023941 0.50349908 0.50165746 0.48839779 0.49650092 0.50755064\n",
      " 0.49723757 0.49834254 0.49171271 0.48913444 0.49539595 0.49244936\n",
      " 0.49723757 0.49797422 0.50128913 0.50165746 0.48987109 0.49023941\n",
      " 0.49171271 0.493186   0.48987109 0.49429098 0.4839779  0.49907919\n",
      " 0.50018416 0.49281768 0.50092081 0.51012891 0.50092081 0.49650092\n",
      " 0.4961326  0.50423573 0.48729282 0.49797422 0.50202578 0.49134438\n",
      " 0.49723757 0.50276243 0.49392265 0.50276243 0.48950276 0.5038674\n",
      " 0.49355433 0.49134438        nan        nan        nan        nan\n",
      "        nan        nan        nan        nan        nan        nan\n",
      "        nan        nan        nan        nan        nan        nan\n",
      "        nan        nan        nan        nan        nan        nan\n",
      "        nan        nan        nan        nan        nan        nan\n",
      "        nan        nan        nan        nan        nan        nan\n",
      "        nan        nan        nan        nan        nan        nan\n",
      "        nan        nan        nan        nan        nan        nan\n",
      "        nan        nan        nan        nan 0.50718232 0.48876611\n",
      " 0.49834254 0.49760589 0.49134438 0.49797422 0.4961326  0.49208103\n",
      " 0.48692449 0.48950276 0.49871087 0.49244936 0.49023941 0.49834254\n",
      " 0.49208103 0.49576427 0.49171271 0.49723757 0.4961326  0.49723757\n",
      " 0.50202578 0.49981584 0.50165746 0.48692449 0.48471455 0.49208103\n",
      " 0.48839779 0.49208103 0.49429098 0.49871087 0.49429098 0.49502762\n",
      " 0.49429098 0.49392265 0.49244936 0.50755064 0.50497238 0.49760589\n",
      " 0.48729282 0.49392265 0.48876611 0.50423573 0.49244936 0.49281768\n",
      " 0.49981584 0.50202578 0.48655617 0.49023941 0.49576427 0.50092081\n",
      " 0.49134438 0.49171271 0.49097606 0.50570902 0.49723757 0.50349908\n",
      " 0.49760589 0.50018416 0.506814   0.50497238 0.48876611 0.49797422\n",
      " 0.49907919 0.50497238 0.5038674  0.50423573 0.49650092 0.49834254\n",
      " 0.49650092 0.50092081 0.49539595 0.5053407  0.50055249 0.49208103\n",
      " 0.49944751 0.50018416 0.50055249 0.49355433 0.48839779 0.506814\n",
      " 0.49797422 0.48839779 0.49502762 0.50497238 0.49907919 0.49981584\n",
      " 0.49023941 0.49576427 0.49834254 0.49539595 0.50313076 0.49392265\n",
      " 0.50865562 0.50755064 0.50239411 0.50055249 0.49797422 0.50092081\n",
      " 0.50313076 0.49060773 0.49797422 0.49871087 0.49871087 0.49023941\n",
      " 0.49023941 0.48692449 0.48434622 0.49686924 0.506814   0.50276243\n",
      " 0.49650092 0.49502762 0.49208103 0.49429098 0.49723757 0.49723757\n",
      " 0.49023941 0.50165746 0.49944751 0.49281768 0.49576427 0.48213628\n",
      " 0.50202578 0.50313076 0.49281768 0.49907919 0.4961326  0.48692449\n",
      " 0.49392265 0.49944751 0.49576427 0.4961326  0.50165746 0.49208103\n",
      " 0.49723757 0.50018416 0.49981584 0.49834254 0.49834254 0.49060773\n",
      " 0.49208103 0.4961326  0.48618785 0.49355433 0.50497238 0.50423573\n",
      " 0.4946593  0.50276243 0.49650092 0.50165746        nan        nan\n",
      "        nan        nan        nan        nan        nan        nan\n",
      "        nan        nan        nan        nan        nan        nan\n",
      "        nan        nan        nan        nan        nan        nan\n",
      "        nan        nan        nan        nan        nan        nan\n",
      "        nan        nan        nan        nan        nan        nan\n",
      "        nan        nan        nan        nan        nan        nan\n",
      "        nan        nan        nan        nan        nan        nan\n",
      "        nan        nan        nan        nan        nan        nan\n",
      " 0.49834254 0.49760589 0.47587477 0.48876611 0.48729282 0.48839779\n",
      " 0.50055249 0.49023941 0.4961326  0.4961326  0.50460405 0.48729282\n",
      " 0.50865562 0.49281768 0.49502762 0.49760589 0.50128913 0.50276243\n",
      " 0.4946593  0.49134438 0.48434622 0.48987109 0.50202578 0.50018416\n",
      " 0.49539595 0.4961326  0.49576427 0.49760589 0.49281768 0.49650092\n",
      " 0.49797422 0.48729282 0.4961326  0.49797422 0.49502762 0.50349908\n",
      " 0.50349908 0.49134438 0.49281768 0.49576427 0.50313076 0.49650092\n",
      " 0.50718232 0.50018416 0.50055249 0.48876611 0.49944751 0.48913444\n",
      " 0.49208103 0.50165746 0.50202578 0.48876611 0.48839779 0.50165746\n",
      " 0.49871087 0.49907919 0.49244936 0.50165746 0.49576427 0.50276243\n",
      " 0.50570902 0.493186   0.50128913 0.49907919 0.50128913 0.50055249\n",
      " 0.49208103 0.49281768 0.49871087 0.49171271 0.50202578 0.5053407\n",
      " 0.4946593  0.50313076 0.49723757 0.49723757 0.49797422 0.50018416\n",
      " 0.4961326  0.49134438 0.49171271 0.50276243 0.50018416 0.49502762\n",
      " 0.50165746 0.50055249 0.49097606 0.5038674  0.4839779  0.5038674\n",
      " 0.50276243 0.48655617 0.48950276 0.48508287 0.50828729 0.49944751\n",
      " 0.50018416 0.50055249 0.48324125 0.49244936 0.49797422 0.49392265\n",
      " 0.49244936 0.49944751 0.48766114 0.50092081 0.49429098 0.493186\n",
      " 0.50128913 0.49686924 0.48802947 0.48802947 0.5053407  0.49834254\n",
      " 0.50276243 0.49208103 0.50128913 0.49502762 0.4946593  0.50092081\n",
      " 0.49907919 0.49760589 0.49723757 0.49907919 0.49134438 0.49171271\n",
      " 0.49208103 0.49281768 0.48729282 0.49907919 0.506814   0.49576427\n",
      " 0.48581952 0.49281768 0.49355433 0.49981584 0.49907919 0.49060773\n",
      " 0.49871087 0.49576427 0.50128913 0.50497238 0.48876611 0.49871087\n",
      " 0.49760589 0.49097606 0.49797422 0.49208103 0.49686924 0.49097606\n",
      "        nan        nan        nan        nan        nan        nan\n",
      "        nan        nan        nan        nan        nan        nan\n",
      "        nan        nan        nan        nan        nan        nan\n",
      "        nan        nan        nan        nan        nan        nan\n",
      "        nan        nan        nan        nan        nan        nan\n",
      "        nan        nan        nan        nan        nan        nan\n",
      "        nan        nan        nan        nan        nan        nan\n",
      "        nan        nan        nan        nan        nan        nan\n",
      "        nan        nan 0.50276243 0.4825046  0.49134438 0.49944751\n",
      " 0.50423573 0.50018416 0.50239411 0.48839779 0.49723757 0.50055249\n",
      " 0.49060773 0.493186   0.49134438 0.4946593  0.49429098 0.50128913\n",
      " 0.49355433 0.50239411 0.48618785 0.49723757 0.48434622 0.50276243\n",
      " 0.48913444 0.50018416 0.48987109 0.49208103 0.49871087 0.50092081\n",
      " 0.48360958 0.49392265 0.49171271 0.49539595 0.49723757 0.49723757\n",
      " 0.49686924 0.49208103 0.50018416 0.50239411 0.49502762 0.49355433\n",
      " 0.4961326  0.50092081 0.49208103 0.50313076 0.49244936 0.49281768\n",
      " 0.49981584 0.48618785 0.49502762 0.49723757 0.49576427 0.49502762\n",
      " 0.50202578 0.50239411 0.48913444 0.50976059 0.50313076 0.50718232\n",
      " 0.48766114 0.49576427 0.49244936 0.48950276 0.49797422 0.49907919\n",
      " 0.50055249 0.48692449 0.50055249 0.48581952 0.50165746 0.50165746\n",
      " 0.49944751 0.49134438 0.49502762 0.50202578 0.49760589 0.49834254\n",
      " 0.48692449 0.49208103 0.49981584 0.49171271 0.50313076 0.49023941\n",
      " 0.49539595 0.49944751 0.50755064 0.50276243 0.49797422 0.49171271\n",
      " 0.4961326  0.49871087 0.48950276 0.49429098 0.49392265 0.49907919\n",
      " 0.49834254 0.49760589 0.48729282 0.4946593  0.49797422 0.49576427\n",
      " 0.48913444 0.49355433 0.49134438 0.48729282 0.49650092 0.48471455\n",
      " 0.50165746 0.49944751 0.49686924 0.49650092 0.49208103 0.5038674\n",
      " 0.5038674  0.50055249 0.50018416 0.5053407  0.493186   0.49576427\n",
      " 0.4946593  0.49760589 0.50202578 0.49134438 0.49023941 0.4961326\n",
      " 0.48434622 0.49576427 0.4946593  0.50791897 0.50423573 0.49797422\n",
      " 0.49576427 0.50128913 0.50828729 0.50607735 0.49907919 0.49834254\n",
      " 0.48766114 0.49834254 0.49686924 0.48655617 0.50128913 0.48802947\n",
      " 0.48987109 0.49723757 0.49023941 0.51675875 0.50202578 0.49907919\n",
      " 0.48876611 0.47845304]\n",
      "  warnings.warn(\n"
     ]
    }
   ],
   "source": [
    "model = RandomForestClassifier()\n",
    "\n",
    "params = {'n_estimators':range(90,110),\n",
    "                 'max_depth':range(1,5),\n",
    "                  'max_leaf_nodes':range(1,5)\n",
    "                  \n",
    "             }\n",
    "\n",
    "gs = GridSearchCV(model,params).fit(x_tr,y_tr)"
   ]
  },
  {
   "cell_type": "code",
   "execution_count": 152,
   "id": "9336c155",
   "metadata": {},
   "outputs": [
    {
     "data": {
      "text/plain": [
       "0.5167587476979743"
      ]
     },
     "execution_count": 152,
     "metadata": {},
     "output_type": "execute_result"
    }
   ],
   "source": [
    "gs.best_score_"
   ]
  },
  {
   "cell_type": "code",
   "execution_count": 153,
   "id": "b1a8bc95",
   "metadata": {
    "scrolled": true
   },
   "outputs": [
    {
     "data": {
      "text/plain": [
       "{'max_depth': 4, 'max_leaf_nodes': 4, 'n_estimators': 145}"
      ]
     },
     "execution_count": 153,
     "metadata": {},
     "output_type": "execute_result"
    }
   ],
   "source": [
    "gs.best_params_"
   ]
  },
  {
   "cell_type": "markdown",
   "id": "4ca1e4b2",
   "metadata": {},
   "source": [
    "## 예측 "
   ]
  },
  {
   "cell_type": "code",
   "execution_count": 155,
   "id": "9487e15a",
   "metadata": {},
   "outputs": [],
   "source": [
    "model = KNeighborsClassifier(leaf_size=1, n_neighbors=36, weights= 'uniform').fit(x_tr,y_tr)"
   ]
  },
  {
   "cell_type": "code",
   "execution_count": 156,
   "id": "c629ed2f",
   "metadata": {},
   "outputs": [
    {
     "data": {
      "text/plain": [
       "(0.5738489871086556, 0.5110375275938189)"
      ]
     },
     "execution_count": 156,
     "metadata": {},
     "output_type": "execute_result"
    }
   ],
   "source": [
    "model.score(x_tr,y_tr),model.score(x_te,y_te)"
   ]
  },
  {
   "cell_type": "code",
   "execution_count": 157,
   "id": "3d5bf850",
   "metadata": {
    "scrolled": false
   },
   "outputs": [
    {
     "data": {
      "text/html": [
       "<div>\n",
       "<style scoped>\n",
       "    .dataframe tbody tr th:only-of-type {\n",
       "        vertical-align: middle;\n",
       "    }\n",
       "\n",
       "    .dataframe tbody tr th {\n",
       "        vertical-align: top;\n",
       "    }\n",
       "\n",
       "    .dataframe thead th {\n",
       "        text-align: right;\n",
       "    }\n",
       "</style>\n",
       "<table border=\"1\" class=\"dataframe\">\n",
       "  <thead>\n",
       "    <tr style=\"text-align: right;\">\n",
       "      <th></th>\n",
       "      <th>Host_Death_Time</th>\n",
       "      <th>Level</th>\n",
       "      <th>Waterflow_Death</th>\n",
       "      <th>Phantom_Count</th>\n",
       "      <th>Phantom_Death</th>\n",
       "      <th>Host_Build_HYBRID</th>\n",
       "      <th>Host_Build_PROC_CAST</th>\n",
       "      <th>Host_Build_PROC_MELEE</th>\n",
       "      <th>Host_Build_RAW_CAST</th>\n",
       "      <th>Host_Build_RAW_MELEE</th>\n",
       "      <th>Phantom_Build_HYBRID</th>\n",
       "      <th>Phantom_Build_PROC_CAST</th>\n",
       "      <th>Phantom_Build_PROC_MELEE</th>\n",
       "      <th>Phantom_Build_RAW_CAST</th>\n",
       "      <th>Phantom_Build_RAW_MELEE</th>\n",
       "      <th>Location_CENTER</th>\n",
       "      <th>Location_INNER</th>\n",
       "      <th>Location_OUTER</th>\n",
       "    </tr>\n",
       "  </thead>\n",
       "  <tbody>\n",
       "    <tr>\n",
       "      <th>0</th>\n",
       "      <td>299.0</td>\n",
       "      <td>124.0</td>\n",
       "      <td>1</td>\n",
       "      <td>2.0</td>\n",
       "      <td>1</td>\n",
       "      <td>0</td>\n",
       "      <td>0</td>\n",
       "      <td>0</td>\n",
       "      <td>0</td>\n",
       "      <td>1</td>\n",
       "      <td>0</td>\n",
       "      <td>0</td>\n",
       "      <td>0</td>\n",
       "      <td>0</td>\n",
       "      <td>1</td>\n",
       "      <td>0</td>\n",
       "      <td>1</td>\n",
       "      <td>0</td>\n",
       "    </tr>\n",
       "    <tr>\n",
       "      <th>1</th>\n",
       "      <td>261.0</td>\n",
       "      <td>169.0</td>\n",
       "      <td>1</td>\n",
       "      <td>2.0</td>\n",
       "      <td>1</td>\n",
       "      <td>1</td>\n",
       "      <td>0</td>\n",
       "      <td>0</td>\n",
       "      <td>0</td>\n",
       "      <td>0</td>\n",
       "      <td>0</td>\n",
       "      <td>1</td>\n",
       "      <td>0</td>\n",
       "      <td>0</td>\n",
       "      <td>0</td>\n",
       "      <td>1</td>\n",
       "      <td>0</td>\n",
       "      <td>0</td>\n",
       "    </tr>\n",
       "    <tr>\n",
       "      <th>2</th>\n",
       "      <td>148.0</td>\n",
       "      <td>179.0</td>\n",
       "      <td>1</td>\n",
       "      <td>0.0</td>\n",
       "      <td>2</td>\n",
       "      <td>0</td>\n",
       "      <td>0</td>\n",
       "      <td>1</td>\n",
       "      <td>0</td>\n",
       "      <td>0</td>\n",
       "      <td>0</td>\n",
       "      <td>0</td>\n",
       "      <td>0</td>\n",
       "      <td>0</td>\n",
       "      <td>0</td>\n",
       "      <td>0</td>\n",
       "      <td>1</td>\n",
       "      <td>0</td>\n",
       "    </tr>\n",
       "    <tr>\n",
       "      <th>3</th>\n",
       "      <td>247.0</td>\n",
       "      <td>141.0</td>\n",
       "      <td>0</td>\n",
       "      <td>2.0</td>\n",
       "      <td>0</td>\n",
       "      <td>0</td>\n",
       "      <td>0</td>\n",
       "      <td>0</td>\n",
       "      <td>1</td>\n",
       "      <td>0</td>\n",
       "      <td>0</td>\n",
       "      <td>0</td>\n",
       "      <td>0</td>\n",
       "      <td>0</td>\n",
       "      <td>1</td>\n",
       "      <td>0</td>\n",
       "      <td>1</td>\n",
       "      <td>0</td>\n",
       "    </tr>\n",
       "    <tr>\n",
       "      <th>4</th>\n",
       "      <td>163.0</td>\n",
       "      <td>126.0</td>\n",
       "      <td>1</td>\n",
       "      <td>2.0</td>\n",
       "      <td>1</td>\n",
       "      <td>0</td>\n",
       "      <td>1</td>\n",
       "      <td>0</td>\n",
       "      <td>0</td>\n",
       "      <td>0</td>\n",
       "      <td>0</td>\n",
       "      <td>0</td>\n",
       "      <td>1</td>\n",
       "      <td>0</td>\n",
       "      <td>0</td>\n",
       "      <td>0</td>\n",
       "      <td>1</td>\n",
       "      <td>0</td>\n",
       "    </tr>\n",
       "    <tr>\n",
       "      <th>...</th>\n",
       "      <td>...</td>\n",
       "      <td>...</td>\n",
       "      <td>...</td>\n",
       "      <td>...</td>\n",
       "      <td>...</td>\n",
       "      <td>...</td>\n",
       "      <td>...</td>\n",
       "      <td>...</td>\n",
       "      <td>...</td>\n",
       "      <td>...</td>\n",
       "      <td>...</td>\n",
       "      <td>...</td>\n",
       "      <td>...</td>\n",
       "      <td>...</td>\n",
       "      <td>...</td>\n",
       "      <td>...</td>\n",
       "      <td>...</td>\n",
       "      <td>...</td>\n",
       "    </tr>\n",
       "    <tr>\n",
       "      <th>3616</th>\n",
       "      <td>204.0</td>\n",
       "      <td>171.0</td>\n",
       "      <td>0</td>\n",
       "      <td>0.0</td>\n",
       "      <td>2</td>\n",
       "      <td>0</td>\n",
       "      <td>0</td>\n",
       "      <td>0</td>\n",
       "      <td>1</td>\n",
       "      <td>0</td>\n",
       "      <td>0</td>\n",
       "      <td>0</td>\n",
       "      <td>0</td>\n",
       "      <td>0</td>\n",
       "      <td>0</td>\n",
       "      <td>0</td>\n",
       "      <td>0</td>\n",
       "      <td>1</td>\n",
       "    </tr>\n",
       "    <tr>\n",
       "      <th>3617</th>\n",
       "      <td>259.0</td>\n",
       "      <td>160.0</td>\n",
       "      <td>0</td>\n",
       "      <td>0.0</td>\n",
       "      <td>2</td>\n",
       "      <td>1</td>\n",
       "      <td>0</td>\n",
       "      <td>0</td>\n",
       "      <td>0</td>\n",
       "      <td>0</td>\n",
       "      <td>0</td>\n",
       "      <td>0</td>\n",
       "      <td>0</td>\n",
       "      <td>0</td>\n",
       "      <td>0</td>\n",
       "      <td>0</td>\n",
       "      <td>1</td>\n",
       "      <td>0</td>\n",
       "    </tr>\n",
       "    <tr>\n",
       "      <th>3618</th>\n",
       "      <td>288.0</td>\n",
       "      <td>173.0</td>\n",
       "      <td>0</td>\n",
       "      <td>2.0</td>\n",
       "      <td>1</td>\n",
       "      <td>0</td>\n",
       "      <td>1</td>\n",
       "      <td>0</td>\n",
       "      <td>0</td>\n",
       "      <td>0</td>\n",
       "      <td>1</td>\n",
       "      <td>0</td>\n",
       "      <td>0</td>\n",
       "      <td>0</td>\n",
       "      <td>0</td>\n",
       "      <td>0</td>\n",
       "      <td>1</td>\n",
       "      <td>0</td>\n",
       "    </tr>\n",
       "    <tr>\n",
       "      <th>3619</th>\n",
       "      <td>58.0</td>\n",
       "      <td>139.0</td>\n",
       "      <td>0</td>\n",
       "      <td>0.0</td>\n",
       "      <td>2</td>\n",
       "      <td>0</td>\n",
       "      <td>1</td>\n",
       "      <td>0</td>\n",
       "      <td>0</td>\n",
       "      <td>0</td>\n",
       "      <td>0</td>\n",
       "      <td>0</td>\n",
       "      <td>0</td>\n",
       "      <td>0</td>\n",
       "      <td>0</td>\n",
       "      <td>1</td>\n",
       "      <td>0</td>\n",
       "      <td>0</td>\n",
       "    </tr>\n",
       "    <tr>\n",
       "      <th>3620</th>\n",
       "      <td>270.0</td>\n",
       "      <td>128.0</td>\n",
       "      <td>1</td>\n",
       "      <td>2.0</td>\n",
       "      <td>0</td>\n",
       "      <td>1</td>\n",
       "      <td>0</td>\n",
       "      <td>0</td>\n",
       "      <td>0</td>\n",
       "      <td>0</td>\n",
       "      <td>0</td>\n",
       "      <td>1</td>\n",
       "      <td>0</td>\n",
       "      <td>0</td>\n",
       "      <td>0</td>\n",
       "      <td>0</td>\n",
       "      <td>1</td>\n",
       "      <td>0</td>\n",
       "    </tr>\n",
       "  </tbody>\n",
       "</table>\n",
       "<p>3621 rows × 18 columns</p>\n",
       "</div>"
      ],
      "text/plain": [
       "      Host_Death_Time  Level  Waterflow_Death  Phantom_Count  Phantom_Death  \\\n",
       "0               299.0  124.0                1            2.0              1   \n",
       "1               261.0  169.0                1            2.0              1   \n",
       "2               148.0  179.0                1            0.0              2   \n",
       "3               247.0  141.0                0            2.0              0   \n",
       "4               163.0  126.0                1            2.0              1   \n",
       "...               ...    ...              ...            ...            ...   \n",
       "3616            204.0  171.0                0            0.0              2   \n",
       "3617            259.0  160.0                0            0.0              2   \n",
       "3618            288.0  173.0                0            2.0              1   \n",
       "3619             58.0  139.0                0            0.0              2   \n",
       "3620            270.0  128.0                1            2.0              0   \n",
       "\n",
       "      Host_Build_HYBRID  Host_Build_PROC_CAST  Host_Build_PROC_MELEE  \\\n",
       "0                     0                     0                      0   \n",
       "1                     1                     0                      0   \n",
       "2                     0                     0                      1   \n",
       "3                     0                     0                      0   \n",
       "4                     0                     1                      0   \n",
       "...                 ...                   ...                    ...   \n",
       "3616                  0                     0                      0   \n",
       "3617                  1                     0                      0   \n",
       "3618                  0                     1                      0   \n",
       "3619                  0                     1                      0   \n",
       "3620                  1                     0                      0   \n",
       "\n",
       "      Host_Build_RAW_CAST  Host_Build_RAW_MELEE  Phantom_Build_HYBRID  \\\n",
       "0                       0                     1                     0   \n",
       "1                       0                     0                     0   \n",
       "2                       0                     0                     0   \n",
       "3                       1                     0                     0   \n",
       "4                       0                     0                     0   \n",
       "...                   ...                   ...                   ...   \n",
       "3616                    1                     0                     0   \n",
       "3617                    0                     0                     0   \n",
       "3618                    0                     0                     1   \n",
       "3619                    0                     0                     0   \n",
       "3620                    0                     0                     0   \n",
       "\n",
       "      Phantom_Build_PROC_CAST  Phantom_Build_PROC_MELEE  \\\n",
       "0                           0                         0   \n",
       "1                           1                         0   \n",
       "2                           0                         0   \n",
       "3                           0                         0   \n",
       "4                           0                         1   \n",
       "...                       ...                       ...   \n",
       "3616                        0                         0   \n",
       "3617                        0                         0   \n",
       "3618                        0                         0   \n",
       "3619                        0                         0   \n",
       "3620                        1                         0   \n",
       "\n",
       "      Phantom_Build_RAW_CAST  Phantom_Build_RAW_MELEE  Location_CENTER  \\\n",
       "0                          0                        1                0   \n",
       "1                          0                        0                1   \n",
       "2                          0                        0                0   \n",
       "3                          0                        1                0   \n",
       "4                          0                        0                0   \n",
       "...                      ...                      ...              ...   \n",
       "3616                       0                        0                0   \n",
       "3617                       0                        0                0   \n",
       "3618                       0                        0                0   \n",
       "3619                       0                        0                1   \n",
       "3620                       0                        0                0   \n",
       "\n",
       "      Location_INNER  Location_OUTER  \n",
       "0                  1               0  \n",
       "1                  0               0  \n",
       "2                  1               0  \n",
       "3                  1               0  \n",
       "4                  1               0  \n",
       "...              ...             ...  \n",
       "3616               0               1  \n",
       "3617               1               0  \n",
       "3618               1               0  \n",
       "3619               0               0  \n",
       "3620               1               0  \n",
       "\n",
       "[3621 rows x 18 columns]"
      ]
     },
     "execution_count": 157,
     "metadata": {},
     "output_type": "execute_result"
    }
   ],
   "source": [
    "x.columns"
   ]
  },
  {
   "cell_type": "code",
   "execution_count": 159,
   "id": "fe6ceec3",
   "metadata": {},
   "outputs": [],
   "source": [
    "to_predict = x.loc[0,:]"
   ]
  },
  {
   "cell_type": "code",
   "execution_count": 229,
   "id": "9e384b78",
   "metadata": {},
   "outputs": [
    {
     "name": "stderr",
     "output_type": "stream",
     "text": [
      "/Users/hong/Library/Python/3.8/lib/python/site-packages/pandas/core/series.py:1056: SettingWithCopyWarning: \n",
      "A value is trying to be set on a copy of a slice from a DataFrame\n",
      "\n",
      "See the caveats in the documentation: https://pandas.pydata.org/pandas-docs/stable/user_guide/indexing.html#returning-a-view-versus-a-copy\n",
      "  cacher_needs_updating = self._check_is_chained_assignment_possible()\n"
     ]
    }
   ],
   "source": [
    "to_predict[\"Host_Death_Time\"] = 10\n",
    "to_predict[\"Level\"] = 180\n",
    "to_predict[\"Waterflow_Death\"] = 1\n",
    "to_predict[\"Phantom_Count\"] = 2\n",
    "to_predict[\"Phantom_Death\"] = 0\n",
    "to_predict[\"Host_Build_HYBRID\"] = 0\n",
    "to_predict[\"Host_Build_PROC_CAST\"] = 0\n",
    "to_predict[\"Host_Build_PROC_MELEE\"] = 0\n",
    "to_predict[\"Host_Build_RAW_CAST\"] = 0\n",
    "to_predict[\"Host_Build_RAW_MELEE\"] = 1\n",
    "to_predict[\"Phantom_Build_HYBRID\"] = 0\n",
    "to_predict[\"Phantom_Build_PROC_CAST\"] = 0\n",
    "to_predict[\"Phantom_Build_PROC_MELEE\"] = 0\n",
    "to_predict[\"Phantom_Build_RAW_CAST\"] = 0\n",
    "to_predict[\"Phantom_Build_RAW_MELEE\"] = 1\n",
    "to_predict[\"Location_INNER\"] = 1\n",
    "to_predict[\"Location_OUTER\"] = 0\n",
    "to_predict[\"Location_CENTER\"] = 0\n",
    "\n"
   ]
  },
  {
   "cell_type": "code",
   "execution_count": 230,
   "id": "1897dd35",
   "metadata": {
    "scrolled": true
   },
   "outputs": [
    {
     "data": {
      "text/plain": [
       "Host_Death_Time              10.0\n",
       "Level                       180.0\n",
       "Waterflow_Death               1.0\n",
       "Phantom_Count                 2.0\n",
       "Phantom_Death                 0.0\n",
       "Host_Build_HYBRID             0.0\n",
       "Host_Build_PROC_CAST          0.0\n",
       "Host_Build_PROC_MELEE         0.0\n",
       "Host_Build_RAW_CAST           0.0\n",
       "Host_Build_RAW_MELEE          1.0\n",
       "Phantom_Build_HYBRID          0.0\n",
       "Phantom_Build_PROC_CAST       0.0\n",
       "Phantom_Build_PROC_MELEE      0.0\n",
       "Phantom_Build_RAW_CAST        0.0\n",
       "Phantom_Build_RAW_MELEE       1.0\n",
       "Location_CENTER               0.0\n",
       "Location_INNER                1.0\n",
       "Location_OUTER                0.0\n",
       "Name: 0, dtype: float64"
      ]
     },
     "execution_count": 230,
     "metadata": {},
     "output_type": "execute_result"
    }
   ],
   "source": [
    "to_predict"
   ]
  },
  {
   "cell_type": "code",
   "execution_count": 231,
   "id": "a05ce8c8",
   "metadata": {},
   "outputs": [],
   "source": [
    "to_pre = pd.DataFrame(to_predict)"
   ]
  },
  {
   "cell_type": "code",
   "execution_count": 232,
   "id": "1542aafb",
   "metadata": {},
   "outputs": [
    {
     "data": {
      "text/html": [
       "<div>\n",
       "<style scoped>\n",
       "    .dataframe tbody tr th:only-of-type {\n",
       "        vertical-align: middle;\n",
       "    }\n",
       "\n",
       "    .dataframe tbody tr th {\n",
       "        vertical-align: top;\n",
       "    }\n",
       "\n",
       "    .dataframe thead th {\n",
       "        text-align: right;\n",
       "    }\n",
       "</style>\n",
       "<table border=\"1\" class=\"dataframe\">\n",
       "  <thead>\n",
       "    <tr style=\"text-align: right;\">\n",
       "      <th></th>\n",
       "      <th>Host_Death_Time</th>\n",
       "      <th>Level</th>\n",
       "      <th>Waterflow_Death</th>\n",
       "      <th>Phantom_Count</th>\n",
       "      <th>Phantom_Death</th>\n",
       "      <th>Host_Build_HYBRID</th>\n",
       "      <th>Host_Build_PROC_CAST</th>\n",
       "      <th>Host_Build_PROC_MELEE</th>\n",
       "      <th>Host_Build_RAW_CAST</th>\n",
       "      <th>Host_Build_RAW_MELEE</th>\n",
       "      <th>Phantom_Build_HYBRID</th>\n",
       "      <th>Phantom_Build_PROC_CAST</th>\n",
       "      <th>Phantom_Build_PROC_MELEE</th>\n",
       "      <th>Phantom_Build_RAW_CAST</th>\n",
       "      <th>Phantom_Build_RAW_MELEE</th>\n",
       "      <th>Location_CENTER</th>\n",
       "      <th>Location_INNER</th>\n",
       "      <th>Location_OUTER</th>\n",
       "    </tr>\n",
       "  </thead>\n",
       "  <tbody>\n",
       "    <tr>\n",
       "      <th>0</th>\n",
       "      <td>10.0</td>\n",
       "      <td>180.0</td>\n",
       "      <td>1.0</td>\n",
       "      <td>2.0</td>\n",
       "      <td>0.0</td>\n",
       "      <td>0.0</td>\n",
       "      <td>0.0</td>\n",
       "      <td>0.0</td>\n",
       "      <td>0.0</td>\n",
       "      <td>1.0</td>\n",
       "      <td>0.0</td>\n",
       "      <td>0.0</td>\n",
       "      <td>0.0</td>\n",
       "      <td>0.0</td>\n",
       "      <td>1.0</td>\n",
       "      <td>0.0</td>\n",
       "      <td>1.0</td>\n",
       "      <td>0.0</td>\n",
       "    </tr>\n",
       "  </tbody>\n",
       "</table>\n",
       "</div>"
      ],
      "text/plain": [
       "   Host_Death_Time  Level  Waterflow_Death  Phantom_Count  Phantom_Death  \\\n",
       "0             10.0  180.0              1.0            2.0            0.0   \n",
       "\n",
       "   Host_Build_HYBRID  Host_Build_PROC_CAST  Host_Build_PROC_MELEE  \\\n",
       "0                0.0                   0.0                    0.0   \n",
       "\n",
       "   Host_Build_RAW_CAST  Host_Build_RAW_MELEE  Phantom_Build_HYBRID  \\\n",
       "0                  0.0                   1.0                   0.0   \n",
       "\n",
       "   Phantom_Build_PROC_CAST  Phantom_Build_PROC_MELEE  Phantom_Build_RAW_CAST  \\\n",
       "0                      0.0                       0.0                     0.0   \n",
       "\n",
       "   Phantom_Build_RAW_MELEE  Location_CENTER  Location_INNER  Location_OUTER  \n",
       "0                      1.0              0.0             1.0             0.0  "
      ]
     },
     "execution_count": 232,
     "metadata": {},
     "output_type": "execute_result"
    }
   ],
   "source": [
    "to_pre = to_pre.transpose()\n",
    "to_pre"
   ]
  },
  {
   "cell_type": "code",
   "execution_count": 233,
   "id": "e16db696",
   "metadata": {},
   "outputs": [
    {
     "name": "stderr",
     "output_type": "stream",
     "text": [
      "/Users/hong/Library/Python/3.8/lib/python/site-packages/sklearn/base.py:443: UserWarning: X has feature names, but KNeighborsClassifier was fitted without feature names\n",
      "  warnings.warn(\n"
     ]
    },
    {
     "data": {
      "text/plain": [
       "array([2.])"
      ]
     },
     "execution_count": 233,
     "metadata": {},
     "output_type": "execute_result"
    }
   ],
   "source": [
    "model.predict(to_pre)"
   ]
  },
  {
   "cell_type": "code",
   "execution_count": null,
   "id": "fc295eb9",
   "metadata": {},
   "outputs": [],
   "source": []
  }
 ],
 "metadata": {
  "kernelspec": {
   "display_name": "Python 3 (ipykernel)",
   "language": "python",
   "name": "python3"
  },
  "language_info": {
   "codemirror_mode": {
    "name": "ipython",
    "version": 3
   },
   "file_extension": ".py",
   "mimetype": "text/x-python",
   "name": "python",
   "nbconvert_exporter": "python",
   "pygments_lexer": "ipython3",
   "version": "3.8.9"
  }
 },
 "nbformat": 4,
 "nbformat_minor": 5
}
